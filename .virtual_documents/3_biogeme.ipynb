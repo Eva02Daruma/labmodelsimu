import pandas as pd
import geopandas as gpd
import matplotlib.pyplot as plt
from Herramientas import teselator as ts
import numpy as np
from math import exp as e
import seaborn as sns
import mpl_toolkits
%matplotlib inline
import random as rd
import random


inter ='D:\TESIS PHD ING TRANSPORTES\Investigación 1\Definitivo\Predios_Lineas\Lineas_Log_Macrozona\Lineas RM\inter_lineas_rm_549.shp'
inter = gpd.read_file(inter)


display(inter)


ciudad = (r'D:\TESIS PHD ING TRANSPORTES\Investigación 1\todo_menos1000.shp')
ciudad = gpd.read_file(ciudad)


#ciudad['UF'] = 15
display(ciudad)
ciudad.shape


ciudad.columns


display(ciudad)


ciudad.describe()


ciudad.columns


bd_predios = (r'D:\TESIS PHD ING TRANSPORTES\Investigación 1\BRORGA2441_NAC_2021_1\BRORGA2441N_NAC_2021_1.csv')
predios = pd.read_csv(bd_predios, sep='|', header=None,encoding='latin1',low_memory=False)


predios.columns = ['Comuna','Manzana','Predial','Dirección','Avalúo fiscal','Contribución semestral','Código de destino','Avalúo exento','Comuna Rol Bien Común 1','Manzana Rol Bien Común 1','Predio Rol Bien Común 1','Comuna Rol Bien Común 2','Manzana Rol Bien Común 2','Predio Rol Bien Común 2', 'Superficie (m2)']


predios.rename(columns={"Superficie (m2)": "Sup_Predial", "Avalúo fiscal": "Avaluo"}, inplace = True)


num=[13101,13101,13134,13135,13159,13167,14107,14109,14111,14113,14114,14127,14155,14156,14157,14158,14166,14201,14202,14203,14501,14502,14503,14504,14505,14601,14602,14603,14604,14605,15103,15105,15108,15128,15132,15151,15152,15160,15161,16106,16110,16131,16153,16154,16162,16163,16164,16165,16301,16302,16303,16401,16402,16403,16404]
predios_rm = predios[predios['Comuna'].isin(num)]


predios_rm['CMN_MZ'] = predios_rm.apply(lambda row: str(row['Comuna'])+'-'+str(row['Manzana']),axis=1)
predios_rm['CMN_MZ_PR'] = predios_rm.apply(lambda row: str(row['Comuna'])+'-'+str(row['Manzana'])+'-'+str(row['Predial']),axis=1)
predios_rm.head(1)


predios_rm2 = predios_rm[['CMN_MZ_PR','CMN_MZ','Avaluo','Dirección','Sup_Predial']]
predios_rm2.head(5)


#bd_lineas = (path + 'lineas_construccion.csv')
bd_lineas = (r'D:\TESIS PHD ING TRANSPORTES\Investigación 1\BRORGA2441_NAC_2021_1\BRORGA2441NL_NAC_2021_1.csv')
lineas = pd.read_csv(bd_lineas, sep='|', header=None,encoding='latin1',low_memory=False)


lineas.columns = ['Comuna','Manzana','Predial','Linea','Material','Calidad','Año','Superficie (m2)','Código de destino','Especial']


num=[13101,13101,13134,13135,13159,13167,14107,14109,14111,14113,14114,14127,14155,14156,14157,14158,14166,14201,14202,14203,14501,14502,14503,14504,14505,14601,14602,14603,14604,14605,15103,15105,15108,15128,15132,15151,15152,15160,15161,16106,16110,16131,16153,16154,16162,16163,16164,16165,16301,16302,16303,16401,16402,16403,16404]
lineas_rm=lineas[lineas['Comuna'].isin(num)]


lineas_rm2 = lineas_rm.copy()
lineas_rm2['CMN_MZ'] = lineas_rm2.apply(lambda row: str(row['Comuna'])+'-'+str(row['Manzana']),axis=1)
lineas_rm2['CMN_MZ_PR'] = lineas_rm2.apply(lambda row: str(row['Comuna'])+'-'+str(row['Manzana'])+'-'+str(row['Predial']),axis=1)
display(lineas_rm2)


#lineas_rm2=lineas_rm_L["Superficie (m2)"].between(10, 100000000, inclusive=False)
#lineas_rm_L = lineas_rm_L[lineas_rm2]
#display(lineas_rm_L)


def juntar_df_sinrep(df1, df2, on):
  columns1 = list(df1.columns)
  columns2 = list(df2.columns)
  columns2_sr = [c for c in columns2 if c not in columns1]
  columns2_sr.append(on)
  return pd.merge(df1, df2[columns2_sr], on = on)


junta = juntar_df_sinrep(lineas_rm2, predios_rm2, on = 'CMN_MZ_PR') #tambien puede ser por lineas_rm_L
display(junta)


#junta.to_csv('junta050521.csv')





#lin_con = junta.copy()

# Condiciones

#ano_inicio = 2018 #cambiar 2015
#ano_fin = 2020
#sup = 1

#bool_ano_i = (lin_con['Año'] >= ano_inicio)
#bool_ano_f = (lin_con['Año'] <= ano_fin)
#bool_uso_suelo = (lin_con['Código de destino'] == 'L') #Logístico
#bool_sup = (lin_con['Sup_Predial'] >= sup)

#bool_total = bool_ano_i & bool_ano_f & bool_sup #& #& bool_uso_suelo 

#lin_con = lin_con.loc[bool_total]



lin_con = junta.copy()

# Condiciones

ano_inicio = 2016 #cambiar 2015
ano_fin = 2020
sup_pre = 1
sup_lin = 10

bool_ano_i = (lin_con['Año'] >= ano_inicio)
bool_ano_f = (lin_con['Año'] <= ano_fin)
bool_uso_suelo = (lin_con['Código de destino'] == 'L') #Logístico
bool_sup_pre = (lin_con['Sup_Predial'] >= sup_pre)
bool_sup_lin = (lin_con['Superficie (m2)'] >= sup_lin)
bool_cat = (lin_con['Calidad'] == 1)

bool_total = bool_ano_i & bool_ano_f & bool_uso_suelo & bool_sup_pre #& bool_sup_lin  #& bool_cat 

lin_con = lin_con.loc[bool_total]


#lin_con.to_csv('bbdd_logistica_10m2.csv')


#lin_con.to_csv('bbdd_todo_usos_2016_2020.csv')


#lin_con['cat_hogar'] = lin_con.apply(lambda row: 1 if (row['Calidad'] <= 2) else 2 if (row['Calidad'] <= 3) else 3 , axis = 1)


#lin_con['valor_prop'] = ((lin_con['Avaluo'] / lin_con['Superficie (m2)'])*29500)*0.3


display(lin_con)


lin_con.drop_duplicates('CMN_MZ_PR', keep="first", inplace=True)


display(lin_con)


#bd1 = juntar_df_sinrep(inter, ciudad, on = 'cell')


#display(bd1)


bd1 = ('D:\TESIS PHD ING TRANSPORTES\Investigación 1\ciudad_inter.shp')
bd1 = gpd.read_file(bd1)


bd1.columns


bd2 = juntar_df_sinrep(bd1, lin_con, on = 'CMN_MZ')


bd2.columns


bd2['valor_prop'] = bd2['Sup_Predial'] * bd2['uf2018']


bd2['Ratio_Pre'] = bd2['Sup_Predial'] / bd2['M2_Predios']


#bd_localizaciones = bd1[['cell', 'CMN_MZ','Avalúo fiscal', 'Superficie (m2)', 'Calidad construcción', 'Manzana', 'Año construcción']]

bd_localizaciones = bd2[['cell', 'CMN_MZ_PR', 'Avaluo', 'Superficie (m2)', 'Sup_Predial','Calidad','Año',
                'Código de destino','Comuna', 'Predial','Linea',
                'M2_Predios', 'M2_Pobla',
                'acc_lc', 'acc_lh', 'acc_li', 'acc_log10',  'acc_lof','acc_pc', 'acc_ph', 'acc_pi', 'acc_pl',
                'Dist_Cent', 'Dist_Metro', 'Dist_Auto', 'Dist_PGV', 'Dist_PSA','D_Pre_Com', 'D_Lin_Com', 'Dist_Tren',
                         'uf2018','valor_prop', 'Ratio_Pre']]

display(bd_localizaciones)


bd_localizaciones.columns


bd_localizaciones.rename(columns={"Superficie (m2)": "Sup_Lineas", "Avalúo fiscal": "Avaluo"}, inplace = True)


bd_localizaciones.drop_duplicates('CMN_MZ_PR', keep="first", inplace=True)


#bd_localizaciones_L = bd_localizaciones.loc[bd_localizaciones['Código de destino'] == 'L']
#bd_localizaciones_L.shape


bd_localizaciones_L = bd_localizaciones.copy()

ano_inicio = 2018 #cambiar 2015
ano_fin = 2020
sup_min = 2501
sup_max = 10000

bool_ano_i = (bd_localizaciones_L['Año'] >= ano_inicio)
bool_ano_f = (bd_localizaciones_L['Año'] <= ano_fin)
bool_uso_suelo = (bd_localizaciones_L['Código de destino'] == 'L') #Logístico
bool_sup_min = (bd_localizaciones_L['Sup_Predial'] <= sup_min)
bool_sup_max = (bd_localizaciones_L['Sup_Predial'] <= sup_max)

bool_total = bool_ano_i & bool_ano_f #& bool_uso_suelo & bool_sup_min & bool_sup_max

bd_localizaciones_L = bd_localizaciones_L.loc[bool_total]


display(bd_localizaciones_L)


bd_localizaciones_L = bd_localizaciones_L.sample(n=4)
display(bd_localizaciones_L)


max_mz = bd_localizaciones_L.sample(n=4)
display(bd_localizaciones_L)


def aleatorio_sin_rep(n, max_mz):
    rnd = rd.randint(1, max_mz)
    while rnd == n:
        rnd = rd.randint(1, max_mz)
    return rnd

no_elecc = 3

ciudad_cols = ['cell', 'CMN_MZ_PR', 'Avaluo', 'Sup_Lineas', 'Sup_Predial','Calidad','Código de destino', 'Año',
                'M2_Predios', 'M2_Pobla',
            'acc_lc', 'acc_lh', 'acc_li', 'acc_log10',  'acc_lof','acc_pc', 'acc_ph', 'acc_pi', 'acc_pl',
                'Dist_Cent', 'Dist_Metro', 'Dist_Auto', 'Dist_PGV', 'Dist_PSA','D_Pre_Com', 'D_Lin_Com', 'Dist_Tren',
                         'uf2018','valor_prop','Ratio_Pre']
                   
for i in range(1, no_elecc+1):
    bd_localizaciones_L[f'cell_not_{i}'] = bd_localizaciones_L.apply(lambda row: aleatorio_sin_rep(row['cell'], max_mz), axis = 1)
    bd_localizaciones_L = bd_localizaciones_L.join(bd_localizaciones[ciudad_cols].set_index('cell'), on= f'cell_not_{i}', rsuffix= f'_not_{i}')
    
    #bd_localizaciones_L[f'cell_not_{i}'] = bd_localizaciones_L.apply(lambda row: aleatorio_sin_rep(row['cell'], max_mz), axis = 1)
    #bd_localizaciones_L = bd_localizaciones_L.join(bd_localizaciones[ciudad_cols].set_index('cell'), on= f'cell_not_{i}', rsuffix= f'_not_{i}')
   
    #bd_localizaciones[f'cell_not_{i}'] = bd_localizaciones.apply(lambda row: aleatorio_sin_rep(row['cell'], max_mz), axis = 1)
    #bd_localizaciones = bd_localizaciones.join(ciudad[ciudad_cols].set_index('cell'), on= f'cell_not_{i}', rsuffix= f'_not_{i}')
    
bd_localizaciones_L['choice'] = 0


display(bd_localizaciones_L)


import biogeme.database as db
import biogeme.biogeme as bio
import biogeme.models as models
import biogeme.results as res
from biogeme.expressions import Beta, DefineVariable, bioDraws, log, MonteCarlo


bd_localizaciones_L.columns





bd_choice = bd_localizaciones_L.copy()


bd_choice.columns


bd_choice = bd_choice.dropna()


bd_choice.isnull().values.any()


bd_choice = bd_choice[['cell','Avaluo', 'Sup_Lineas', 'Sup_Predial','Calidad','Año','M2_Predios', 'M2_Pobla',
                         'acc_lc', 'acc_lh', 'acc_li', 'acc_log10',  'acc_lof','acc_pc', 'acc_ph', 'acc_pi', 'acc_pl',
                    'Dist_Cent', 'Dist_Metro', 'Dist_Auto', 'Dist_PGV', 'Dist_PSA','D_Pre_Com', 'D_Lin_Com', 'Dist_Tren',
                         'uf2018','valor_prop','Ratio_Pre',
                       
'cell_not_1','Avaluo_not_1', 'Sup_Lineas_not_1', 'Sup_Predial_not_1','Calidad_not_1', 'Año_not_1',
                       'M2_Predios_not_1', 'M2_Pobla_not_1',
                         'acc_lc_not_1', 'acc_lh_not_1', 'acc_li_not_1', 'acc_log10_not_1',  'acc_lof_not_1',
                       'acc_pc_not_1', 'acc_ph_not_1', 'acc_pi_not_1', 'acc_pl_not_1',
                         'Dist_Cent_not_1', 'Dist_Metro_not_1', 'Dist_Auto_not_1', 'Dist_PGV_not_1',
                       'Dist_PSA_not_1','D_Pre_Com_not_1', 'D_Lin_Com_not_1','Dist_Tren_not_1',
                       'uf2018_not_1','valor_prop_not_1','Ratio_Pre_not_1',
                       
'cell_not_2','Avaluo_not_2', 'Sup_Lineas_not_2', 'Sup_Predial_not_2','Calidad_not_2', 'Año_not_2',
                       'M2_Predios_not_2', 'M2_Pobla_not_2',
                         'acc_lc_not_2', 'acc_lh_not_2', 'acc_li_not_2', 'acc_log10_not_2',  'acc_lof_not_2',
                       'acc_pc_not_2', 'acc_ph_not_2', 'acc_pi_not_2', 'acc_pl_not_2',
                        'Dist_Cent_not_2', 'Dist_Metro_not_2', 'Dist_Auto_not_2', 'Dist_PGV_not_2',
                       'Dist_PSA_not_2','D_Pre_Com_not_2', 'D_Lin_Com_not_2','Dist_Tren_not_2',
                       'uf2018_not_2','valor_prop_not_2','Ratio_Pre_not_2',
                       
'cell_not_3','Avaluo_not_3', 'Sup_Lineas_not_3', 'Sup_Predial_not_3','Calidad_not_3','Año_not_3',
                       'M2_Predios_not_3', 'M2_Pobla_not_3',
                         'acc_lc_not_3', 'acc_lh_not_3', 'acc_li_not_3', 'acc_log10_not_3',  'acc_lof_not_3',
                       'acc_pc_not_3', 'acc_ph_not_3', 'acc_pi_not_3', 'acc_pl_not_3',
                         'Dist_Cent_not_3', 'Dist_Metro_not_3', 'Dist_Auto_not_3', 'Dist_PGV_not_3',
                       'Dist_PSA_not_3','D_Pre_Com_not_3', 'D_Lin_Com_not_3','Dist_Tren_not_3',
                       'uf2018_not_3','valor_prop_not_3','Ratio_Pre_not_3',
                       
#'cell_not_4','Avaluo_not_4', 'Sup_Lineas_not_4', 'Sup_Predial_not_4','Calidad_not_4','Año_not_4',
#                       'M2_Predios_not_4', 'M2_Pobla_not_4',
#                         'acc_lc_not_4', 'acc_lh_not_4', 'acc_li_not_4', 'acc_log10_not_4',  'acc_lof_not_4',
#                       'acc_pc_not_4', 'acc_ph_not_4', 'acc_pi_not_4', 'acc_pl_not_4',
#                       'Dist_Cent_not_4', 'Dist_Metro_not_4', 'Dist_Auto_not_4', 'Dist_PGV_not_4',
#                       'Dist_PSA_not_4','D_Pre_Com_not_4', 'D_Lin_Com_not_4','Dist_Tren_not_4',
#                       'uf2018_not_4','valor_prop_not_4','Ratio_Pre_not_4',
#                       
#'cell_not_5','Avaluo_not_5', 'Sup_Lineas_not_5', 'Sup_Predial_not_5','Calidad_not_5','Año_not_5',
#                       'M2_Predios_not_5', 'M2_Pobla_not_5',
#                         'acc_lc_not_5', 'acc_lh_not_5', 'acc_li_not_5', 'acc_log10_not_5',  'acc_lof_not_5',
#                       'acc_pc_not_5', 'acc_ph_not_5', 'acc_pi_not_5', 'acc_pl_not_5',
#                     'Dist_Cent_not_5', 'Dist_Metro_not_5', 'Dist_Auto_not_5', 'Dist_PGV_not_5',
#                       'Dist_PSA_not_5','D_Pre_Com_not_5', 'D_Lin_Com_not_5','Dist_Tren_not_5',
#                      'uf2018_not_5','valor_prop_not_5','Ratio_Pre_not_5',
#'cell_not_6','Avaluo_not_6', 'Sup_Lineas_not_6', 'Sup_Predial_not_6','Calidad_not_6','Año_not_6',
#                       'M2_Predios_not_6', 'M2_Pobla_not_6',
#                        'acc_lc_not_6', 'acc_lh_not_6', 'acc_li_not_6', 'acc_log10_not_6',  'acc_lof_not_6',
 #                      'acc_pc_not_6', 'acc_ph_not_6', 'acc_pi_not_6', 'acc_pl_not_6',
  #                       'Dist_Cent_not_6', 'Dist_Metro_not_6', 'Dist_Auto_not_6', 'Dist_PGV_not_6',
#                      'Dist_PSA_not_6','D_Pre_Com_not_6', 'D_Lin_Com_not_6','Dist_Tren_not_6',
#                       'uf2018_not_6','valor_prop_not_6','Ratio_Pre_not_6',
#                       
#'cell_not_7','Avaluo_not_7', 'Sup_Lineas_not_7', 'Sup_Predial_not_7','Calidad_not_7', 'Año_not_7',
#                       'M2_Predios_not_7', 'M2_Pobla_not_7',
#                         'acc_lc_not_7', 'acc_lh_not_7', 'acc_li_not_7', 'acc_log10_not_7',  'acc_lof_not_7',
#                       'acc_pc_not_7', 'acc_ph_not_7', 'acc_pi_not_7', 'acc_pl_not_7',
#                        'Dist_Cent_not_7', 'Dist_Metro_not_7', 'Dist_Auto_not_7', 'Dist_PGV_not_7',
#                       'Dist_PSA_not_7','D_Pre_Com_not_7', 'D_Lin_Com_not_7','Dist_Tren_not_7',
#                       'uf2018_not_7','valor_prop_not_7','Ratio_Pre_not_7',
#                       
#'cell_not_8','Avaluo_not_8', 'Sup_Lineas_not_8', 'Sup_Predial_not_8','Calidad_not_8','Año_not_8',
#                       'M2_Predios_not_8', 'M2_Pobla_not_8',
#                         'acc_lc_not_8', 'acc_lh_not_8', 'acc_li_not_8', 'acc_log10_not_8',  'acc_lof_not_8',
#                       'acc_pc_not_8', 'acc_ph_not_8', 'acc_pi_not_8', 'acc_pl_not_8',
#                         'Dist_Cent_not_8', 'Dist_Metro_not_8', 'Dist_Auto_not_8', 'Dist_PGV_not_8',
#                       'Dist_PSA_not_8','D_Pre_Com_not_8', 'D_Lin_Com_not_8','Dist_Tren_not_8',
#                       'uf2018_not_8','valor_prop_not_8','Ratio_Pre_not_8',
#
#'cell_not_9','Avaluo_not_9', 'Sup_Lineas_not_9', 'Sup_Predial_not_9','Calidad_not_9', 'Año_not_9',
#                       'M2_Predios_not_9', 'M2_Pobla_not_9',
#                         'acc_lc_not_9', 'acc_lh_not_9', 'acc_li_not_9', 'acc_log10_not_9',  'acc_lof_not_9',
#                       'acc_pc_not_9', 'acc_ph_not_9', 'acc_pi_not_9', 'acc_pl_not_9',
#                        'Dist_Cent_not_9', 'Dist_Metro_not_9', 'Dist_Auto_not_9', 'Dist_PGV_not_9',
#                       'Dist_PSA_not_9','D_Pre_Com_not_9', 'D_Lin_Com_not_9','Dist_Tren_not_9',
#                     'uf2018_not_9','valor_prop_not_9','Ratio_Pre_not_9',
                       'choice']]


#bd_choice.to_csv('bd_choice.csv')


database = db.Database("Modelo Choice", bd_choice)
globals().update(database.variables)
database.getSampleSize()


xh = ['Ratio_Pre'] #Carecteristicas del predio escogido
zi = ['acc_log10', #'acc_lc','acc_lh', 'acc_li', #'acc_lof',
      'acc_pc','acc_pi', #'acc_ph', 'acc_pl',
      'Dist_Auto', 'Dist_PGV', 'Dist_PSA','Dist_Metro'] #Atributos  'Dist_Cent','D_Lin_Com', 'Dist_Tren','D_Pre_Com' ,
ri = ['valor_prop'] #Renta
total_vars = xh + zi + ri


betas = {}
for v in total_vars:
    auxBeta = Beta(f'B_{v}',0,-100,100,0)
    betas.update({f'B_{v}': auxBeta})


betas


#Funciones de Utilidad
V_choice = 0
for v in total_vars:
    V_choice += betas['B_{}'.format(v)]*database.variables[v]
    
V = {0: V_choice}
av = {0:1}

V_nochoice = []
for i in range(1, no_elecc+1):
    V_nochoice_aux = 0
    for v in xh:
        V_nochoice_aux += betas['B_{}'.format(v)]*database.variables[v]
    for v in zi:
        V_nochoice_aux += betas['B_{}'.format(v)]*database.variables['{}_not_{}'.format(v,i)]
    for v in ri:
        V_nochoice_aux += betas['B_{}'.format(v)]*database.variables['{}_not_{}'.format(v,i)]
    
    V.update({i: V_nochoice_aux})
    av.update({i:1})


logprob = models.loglogit(V, av, choice) #multinomial
#bio.WEIGHT = 'Sup_Predial'
biogeme  = bio.BIOGEME(database,logprob)
biogeme.modelName = "choice"
results = biogeme.estimate()


pandasResults = results.getEstimatedParameters()
pandasResults


pandasCorrelations = results.getCorrelationResults()
pandasCorrelations


pandasGeneralStat = results.getGeneralStatistics()
pandasGeneralStat









