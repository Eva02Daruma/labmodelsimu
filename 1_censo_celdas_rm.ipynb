{
 "cells": [
  {
   "cell_type": "code",
   "execution_count": 2,
   "metadata": {
    "ExecuteTime": {
     "end_time": "2023-11-09T14:40:38.786775Z",
     "start_time": "2023-11-09T14:40:36.387355Z"
    },
    "colab": {
     "base_uri": "https://localhost:8080/"
    },
    "id": "SKFb44yrQM80",
    "outputId": "461a7a83-100c-4416-dac1-7376d52f287e"
   },
   "outputs": [],
   "source": [
    "\n",
    "import pandas as pd\n",
    "import geopandas as gpd\n",
    "import matplotlib.pyplot as plt\n",
    "from Herramientas import teselator as ts\n",
    "import numpy as np\n",
    "%matplotlib inline"
   ]
  },
  {
   "cell_type": "markdown",
   "metadata": {
    "id": "lLFmojUxQM83"
   },
   "source": [
    "# BASES DE DATOS"
   ]
  },
  {
   "cell_type": "code",
   "execution_count": 7,
   "metadata": {
    "ExecuteTime": {
     "end_time": "2023-11-09T15:36:51.858787Z",
     "start_time": "2023-11-09T15:36:51.550182Z"
    },
    "colab": {
     "base_uri": "https://localhost:8080/",
     "height": 588
    },
    "id": "MAHMBIzeQM84",
    "outputId": "3244099d-9019-44dc-dc3d-2956b5a8ff69"
   },
   "outputs": [
    {
     "ename": "DriverError",
     "evalue": "Unable to open manzanas_rm_AMS.shx or manzanas_rm_AMS.SHX. Set SHAPE_RESTORE_SHX config option to YES to restore or create it.",
     "output_type": "error",
     "traceback": [
      "\u001B[0;31m---------------------------------------------------------------------------\u001B[0m",
      "\u001B[0;31mCPLE_OpenFailedError\u001B[0m                      Traceback (most recent call last)",
      "File \u001B[0;32mfiona/ogrext.pyx:136\u001B[0m, in \u001B[0;36mfiona.ogrext.gdal_open_vector\u001B[0;34m()\u001B[0m\n",
      "File \u001B[0;32mfiona/_err.pyx:291\u001B[0m, in \u001B[0;36mfiona._err.exc_wrap_pointer\u001B[0;34m()\u001B[0m\n",
      "\u001B[0;31mCPLE_OpenFailedError\u001B[0m: Unable to open manzanas_rm_AMS.shx or manzanas_rm_AMS.SHX. Set SHAPE_RESTORE_SHX config option to YES to restore or create it.",
      "\nDuring handling of the above exception, another exception occurred:\n",
      "\u001B[0;31mDriverError\u001B[0m                               Traceback (most recent call last)",
      "\u001B[1;32m/Users/cotearaya/PycharmProjects/labmodelsimu/1_censo_celdas_rm.ipynb Cell 3\u001B[0m line \u001B[0;36m2\n\u001B[1;32m      <a href='vscode-notebook-cell:/Users/cotearaya/PycharmProjects/labmodelsimu/1_censo_celdas_rm.ipynb#W2sZmlsZQ%3D%3D?line=0'>1</a>\u001B[0m bd_mz_rm \u001B[39m=\u001B[39m (\u001B[39m'\u001B[39m\u001B[39mmanzanas_rm_AMS.shp\u001B[39m\u001B[39m'\u001B[39m)\n\u001B[0;32m----> <a href='vscode-notebook-cell:/Users/cotearaya/PycharmProjects/labmodelsimu/1_censo_celdas_rm.ipynb#W2sZmlsZQ%3D%3D?line=1'>2</a>\u001B[0m gdf_mz_rm \u001B[39m=\u001B[39m gpd\u001B[39m.\u001B[39;49mread_file(bd_mz_rm)\n",
      "File \u001B[0;32m~/PycharmProjects/labmodelsimu/venv/lib/python3.10/site-packages/geopandas/io/file.py:297\u001B[0m, in \u001B[0;36m_read_file\u001B[0;34m(filename, bbox, mask, rows, engine, **kwargs)\u001B[0m\n\u001B[1;32m    294\u001B[0m     \u001B[39melse\u001B[39;00m:\n\u001B[1;32m    295\u001B[0m         path_or_bytes \u001B[39m=\u001B[39m filename\n\u001B[0;32m--> 297\u001B[0m     \u001B[39mreturn\u001B[39;00m _read_file_fiona(\n\u001B[1;32m    298\u001B[0m         path_or_bytes, from_bytes, bbox\u001B[39m=\u001B[39;49mbbox, mask\u001B[39m=\u001B[39;49mmask, rows\u001B[39m=\u001B[39;49mrows, \u001B[39m*\u001B[39;49m\u001B[39m*\u001B[39;49mkwargs\n\u001B[1;32m    299\u001B[0m     )\n\u001B[1;32m    301\u001B[0m \u001B[39melse\u001B[39;00m:\n\u001B[1;32m    302\u001B[0m     \u001B[39mraise\u001B[39;00m \u001B[39mValueError\u001B[39;00m(\u001B[39mf\u001B[39m\u001B[39m\"\u001B[39m\u001B[39munknown engine \u001B[39m\u001B[39m'\u001B[39m\u001B[39m{\u001B[39;00mengine\u001B[39m}\u001B[39;00m\u001B[39m'\u001B[39m\u001B[39m\"\u001B[39m)\n",
      "File \u001B[0;32m~/PycharmProjects/labmodelsimu/venv/lib/python3.10/site-packages/geopandas/io/file.py:338\u001B[0m, in \u001B[0;36m_read_file_fiona\u001B[0;34m(path_or_bytes, from_bytes, bbox, mask, rows, where, **kwargs)\u001B[0m\n\u001B[1;32m    335\u001B[0m     reader \u001B[39m=\u001B[39m fiona\u001B[39m.\u001B[39mopen\n\u001B[1;32m    337\u001B[0m \u001B[39mwith\u001B[39;00m fiona_env():\n\u001B[0;32m--> 338\u001B[0m     \u001B[39mwith\u001B[39;00m reader(path_or_bytes, \u001B[39m*\u001B[39;49m\u001B[39m*\u001B[39;49mkwargs) \u001B[39mas\u001B[39;00m features:\n\u001B[1;32m    339\u001B[0m         crs \u001B[39m=\u001B[39m features\u001B[39m.\u001B[39mcrs_wkt\n\u001B[1;32m    340\u001B[0m         \u001B[39m# attempt to get EPSG code\u001B[39;00m\n",
      "File \u001B[0;32m~/PycharmProjects/labmodelsimu/venv/lib/python3.10/site-packages/fiona/env.py:457\u001B[0m, in \u001B[0;36mensure_env_with_credentials.<locals>.wrapper\u001B[0;34m(*args, **kwds)\u001B[0m\n\u001B[1;32m    454\u001B[0m     session \u001B[39m=\u001B[39m DummySession()\n\u001B[1;32m    456\u001B[0m \u001B[39mwith\u001B[39;00m env_ctor(session\u001B[39m=\u001B[39msession):\n\u001B[0;32m--> 457\u001B[0m     \u001B[39mreturn\u001B[39;00m f(\u001B[39m*\u001B[39;49margs, \u001B[39m*\u001B[39;49m\u001B[39m*\u001B[39;49mkwds)\n",
      "File \u001B[0;32m~/PycharmProjects/labmodelsimu/venv/lib/python3.10/site-packages/fiona/__init__.py:292\u001B[0m, in \u001B[0;36mopen\u001B[0;34m(fp, mode, driver, schema, crs, encoding, layer, vfs, enabled_drivers, crs_wkt, allow_unsupported_drivers, **kwargs)\u001B[0m\n\u001B[1;32m    289\u001B[0m     path \u001B[39m=\u001B[39m parse_path(fp)\n\u001B[1;32m    291\u001B[0m \u001B[39mif\u001B[39;00m mode \u001B[39min\u001B[39;00m (\u001B[39m\"\u001B[39m\u001B[39ma\u001B[39m\u001B[39m\"\u001B[39m, \u001B[39m\"\u001B[39m\u001B[39mr\u001B[39m\u001B[39m\"\u001B[39m):\n\u001B[0;32m--> 292\u001B[0m     colxn \u001B[39m=\u001B[39m Collection(\n\u001B[1;32m    293\u001B[0m         path,\n\u001B[1;32m    294\u001B[0m         mode,\n\u001B[1;32m    295\u001B[0m         driver\u001B[39m=\u001B[39;49mdriver,\n\u001B[1;32m    296\u001B[0m         encoding\u001B[39m=\u001B[39;49mencoding,\n\u001B[1;32m    297\u001B[0m         layer\u001B[39m=\u001B[39;49mlayer,\n\u001B[1;32m    298\u001B[0m         enabled_drivers\u001B[39m=\u001B[39;49menabled_drivers,\n\u001B[1;32m    299\u001B[0m         allow_unsupported_drivers\u001B[39m=\u001B[39;49mallow_unsupported_drivers,\n\u001B[1;32m    300\u001B[0m         \u001B[39m*\u001B[39;49m\u001B[39m*\u001B[39;49mkwargs\n\u001B[1;32m    301\u001B[0m     )\n\u001B[1;32m    302\u001B[0m \u001B[39melif\u001B[39;00m mode \u001B[39m==\u001B[39m \u001B[39m\"\u001B[39m\u001B[39mw\u001B[39m\u001B[39m\"\u001B[39m:\n\u001B[1;32m    303\u001B[0m     colxn \u001B[39m=\u001B[39m Collection(\n\u001B[1;32m    304\u001B[0m         path,\n\u001B[1;32m    305\u001B[0m         mode,\n\u001B[0;32m   (...)\u001B[0m\n\u001B[1;32m    314\u001B[0m         \u001B[39m*\u001B[39m\u001B[39m*\u001B[39mkwargs\n\u001B[1;32m    315\u001B[0m     )\n",
      "File \u001B[0;32m~/PycharmProjects/labmodelsimu/venv/lib/python3.10/site-packages/fiona/collection.py:243\u001B[0m, in \u001B[0;36mCollection.__init__\u001B[0;34m(self, path, mode, driver, schema, crs, encoding, layer, vsi, archive, enabled_drivers, crs_wkt, ignore_fields, ignore_geometry, include_fields, wkt_version, allow_unsupported_drivers, **kwargs)\u001B[0m\n\u001B[1;32m    241\u001B[0m \u001B[39mif\u001B[39;00m \u001B[39mself\u001B[39m\u001B[39m.\u001B[39mmode \u001B[39m==\u001B[39m \u001B[39m\"\u001B[39m\u001B[39mr\u001B[39m\u001B[39m\"\u001B[39m:\n\u001B[1;32m    242\u001B[0m     \u001B[39mself\u001B[39m\u001B[39m.\u001B[39msession \u001B[39m=\u001B[39m Session()\n\u001B[0;32m--> 243\u001B[0m     \u001B[39mself\u001B[39;49m\u001B[39m.\u001B[39;49msession\u001B[39m.\u001B[39;49mstart(\u001B[39mself\u001B[39;49m, \u001B[39m*\u001B[39;49m\u001B[39m*\u001B[39;49mkwargs)\n\u001B[1;32m    244\u001B[0m \u001B[39melif\u001B[39;00m \u001B[39mself\u001B[39m\u001B[39m.\u001B[39mmode \u001B[39min\u001B[39;00m (\u001B[39m\"\u001B[39m\u001B[39ma\u001B[39m\u001B[39m\"\u001B[39m, \u001B[39m\"\u001B[39m\u001B[39mw\u001B[39m\u001B[39m\"\u001B[39m):\n\u001B[1;32m    245\u001B[0m     \u001B[39mself\u001B[39m\u001B[39m.\u001B[39msession \u001B[39m=\u001B[39m WritingSession()\n",
      "File \u001B[0;32mfiona/ogrext.pyx:588\u001B[0m, in \u001B[0;36mfiona.ogrext.Session.start\u001B[0;34m()\u001B[0m\n",
      "File \u001B[0;32mfiona/ogrext.pyx:143\u001B[0m, in \u001B[0;36mfiona.ogrext.gdal_open_vector\u001B[0;34m()\u001B[0m\n",
      "\u001B[0;31mDriverError\u001B[0m: Unable to open manzanas_rm_AMS.shx or manzanas_rm_AMS.SHX. Set SHAPE_RESTORE_SHX config option to YES to restore or create it."
     ]
    }
   ],
   "source": [
    "bd_mz_rm = ('manzanas_rm_AMS.shp')\n",
    "gdf_mz_rm = gpd.read_file(bd_mz_rm)"
   ]
  },
  {
   "cell_type": "code",
   "execution_count": 2,
   "metadata": {
    "ExecuteTime": {
     "end_time": "2023-11-07T18:02:02.063922Z",
     "start_time": "2023-11-07T18:02:02.042538Z"
    },
    "id": "gl22bMm7QM86",
    "scrolled": false
   },
   "outputs": [
    {
     "ename": "NameError",
     "evalue": "name 'gdf_mz_rm' is not defined",
     "output_type": "error",
     "traceback": [
      "\u001B[0;31m---------------------------------------------------------------------------\u001B[0m",
      "\u001B[0;31mNameError\u001B[0m                                 Traceback (most recent call last)",
      "\u001B[1;32m/Users/cotearaya/PycharmProjects/labmodelsimu/1_censo_celdas_rm.ipynb Cell 4\u001B[0m line \u001B[0;36m1\n\u001B[0;32m----> <a href='vscode-notebook-cell:/Users/cotearaya/PycharmProjects/labmodelsimu/1_censo_celdas_rm.ipynb#W3sZmlsZQ%3D%3D?line=0'>1</a>\u001B[0m display(gdf_mz_rm)\n",
      "\u001B[0;31mNameError\u001B[0m: name 'gdf_mz_rm' is not defined"
     ]
    }
   ],
   "source": [
    "display(gdf_mz_rm)"
   ]
  },
  {
   "cell_type": "code",
   "execution_count": null,
   "metadata": {
    "id": "h5uOcnfyQM87",
    "scrolled": true
   },
   "outputs": [],
   "source": [
    "gdf_mz_rm.columns"
   ]
  },
  {
   "cell_type": "code",
   "execution_count": null,
   "metadata": {
    "id": "lpbA8g1HQM88"
   },
   "outputs": [],
   "source": [
    "#gdf_mz_rm = gdf_mz_rm.loc[gdf_mz_rm['REGION'] == '13']"
   ]
  },
  {
   "cell_type": "code",
   "execution_count": null,
   "metadata": {
    "id": "dRuIHvk5QM88"
   },
   "outputs": [],
   "source": [
    "Total1 = gdf_mz_rm['TOTAL_PERS'].sum()\n",
    "print (\"Total Personas:\",Total1)"
   ]
  },
  {
   "cell_type": "code",
   "execution_count": null,
   "metadata": {
    "id": "Ukp7P24VQM89"
   },
   "outputs": [],
   "source": [
    "bd_mz_rm1 = ('manzanas_rm.shp')\n",
    "gdf_mz_rm1 = gpd.read_file(bd_mz_rm1)"
   ]
  },
  {
   "cell_type": "markdown",
   "metadata": {
    "id": "E2xUXklgQM89"
   },
   "source": [
    "# CELDAS"
   ]
  },
  {
   "cell_type": "code",
   "execution_count": null,
   "metadata": {
    "id": "dCADUBGXQM8-"
   },
   "outputs": [],
   "source": [
    "xmin, ymin, xmax, ymax = gdf_mz_rm1.total_bounds"
   ]
  },
  {
   "cell_type": "code",
   "execution_count": 3,
   "metadata": {
    "id": "v_fv6xchQM8_"
   },
   "outputs": [
    {
     "ename": "NameError",
     "evalue": "name 'ts' is not defined",
     "output_type": "error",
     "traceback": [
      "\u001B[0;31m---------------------------------------------------------------------------\u001B[0m",
      "\u001B[0;31mNameError\u001B[0m                                 Traceback (most recent call last)",
      "\u001B[1;32m/Users/cotearaya/PycharmProjects/labmodelsimu/1_censo_celdas_rm.ipynb Cell 11\u001B[0m line \u001B[0;36m1\n\u001B[0;32m----> <a href='vscode-notebook-cell:/Users/cotearaya/PycharmProjects/labmodelsimu/1_censo_celdas_rm.ipynb#X13sZmlsZQ%3D%3D?line=0'>1</a>\u001B[0m celdas_rm \u001B[39m=\u001B[39m ts\u001B[39m.\u001B[39mhexagon_teselation(xmin, xmax, ymin, ymax, \u001B[39m549.8183\u001B[39m, \u001B[39m32719\u001B[39m) \u001B[39m#Los 549.8183 son el radio de la celda\u001B[39;00m\n\u001B[1;32m      <a href='vscode-notebook-cell:/Users/cotearaya/PycharmProjects/labmodelsimu/1_censo_celdas_rm.ipynb#X13sZmlsZQ%3D%3D?line=1'>2</a>\u001B[0m celdas_rm[\u001B[39m'\u001B[39m\u001B[39mcenters\u001B[39m\u001B[39m'\u001B[39m] \u001B[39m=\u001B[39m celdas_rm\u001B[39m.\u001B[39mcentroid\n\u001B[1;32m      <a href='vscode-notebook-cell:/Users/cotearaya/PycharmProjects/labmodelsimu/1_censo_celdas_rm.ipynb#X13sZmlsZQ%3D%3D?line=2'>3</a>\u001B[0m ax \u001B[39m=\u001B[39m celdas_rm\u001B[39m.\u001B[39mplot(edgecolor \u001B[39m=\u001B[39m \u001B[39m'\u001B[39m\u001B[39mblack\u001B[39m\u001B[39m'\u001B[39m, figsize \u001B[39m=\u001B[39m (\u001B[39m15\u001B[39m,\u001B[39m15\u001B[39m))\n",
      "\u001B[0;31mNameError\u001B[0m: name 'ts' is not defined"
     ]
    }
   ],
   "source": [
    "celdas_rm = ts.hexagon_teselation(xmin, xmax, ymin, ymax, 549.8183, 32719) #Los 549.8183 son el radio de la celda\n",
    "celdas_rm['centers'] = celdas_rm.centroid\n",
    "ax = celdas_rm.plot(edgecolor = 'black', figsize = (15,15))\n",
    "gdf_mz_rm.plot(ax = ax, color = 'g', edgecolor = 'r', alpha = 0.5)\n",
    "celdas_rm.head()"
   ]
  },
  {
   "cell_type": "code",
   "execution_count": null,
   "metadata": {
    "id": "kbKs7ufSQM8_",
    "scrolled": false
   },
   "outputs": [],
   "source": [
    "display(celdas_rm)"
   ]
  },
  {
   "cell_type": "code",
   "execution_count": null,
   "metadata": {
    "id": "hCj4QL_SQM9A",
    "scrolled": false
   },
   "outputs": [],
   "source": [
    "def suma_superficies(rol, df):\n",
    "    a_revisar = df.loc[df['FID']==rol]\n",
    "    suma= a_revisar['TOTAL_PERS'].sum()\n",
    "    return suma\n",
    "\n",
    "gdf_mz_rm['Población'] = gdf_mz_rm.apply(lambda row:suma_superficies(row['FID'],gdf_mz_rm) ,axis=1)\n",
    "\n",
    "gdf_mz_rm.head()"
   ]
  },
  {
   "cell_type": "code",
   "execution_count": null,
   "metadata": {
    "id": "XSISgq-wQM9B"
   },
   "outputs": [],
   "source": [
    "display(gdf_mz_rm)"
   ]
  },
  {
   "cell_type": "code",
   "execution_count": null,
   "metadata": {
    "id": "htVnR9OYQM9B",
    "scrolled": false
   },
   "outputs": [],
   "source": [
    "P=gdf_mz_rm.plot(column='Población',figsize = (15,15), legend=True)\n",
    "P.set_title('Población en Región Metropolitana de Santiago, Chile', fontsize=12)"
   ]
  },
  {
   "cell_type": "code",
   "execution_count": null,
   "metadata": {
    "id": "Vc5C5McpQM9C"
   },
   "outputs": [],
   "source": [
    "#gdf_mz_rm.to_file('poblacion_rm_549.shp')"
   ]
  },
  {
   "cell_type": "code",
   "execution_count": null,
   "metadata": {
    "id": "Od55VFywQM9C",
    "scrolled": false
   },
   "outputs": [],
   "source": [
    "#Intersección celda con manzana\n",
    "inter = gpd.overlay(celdas_rm, gdf_mz_rm, how='intersection')\n",
    "inter.head()"
   ]
  },
  {
   "cell_type": "code",
   "execution_count": null,
   "metadata": {
    "id": "ZU2IVA3RQM9D"
   },
   "outputs": [],
   "source": [
    "def proporcion(area_celda,FID,gdf_mz_rm):\n",
    "    mz = gdf_mz_rm.loc[gdf_mz_rm['FID']==FID]\n",
    "    area_mz = mz.area\n",
    "    return area_celda/area_mz.sum()\n",
    "inter['proporcion'] = inter.apply(lambda row: proporcion(row['geometry'].area,row['FID'],gdf_mz_rm), axis =1)\n",
    "inter.head()"
   ]
  },
  {
   "cell_type": "code",
   "execution_count": null,
   "metadata": {
    "id": "pRbZI3LSQM9D"
   },
   "outputs": [],
   "source": [
    "inter['m2 prop'] = inter.apply(lambda row: row['proporcion']*row['TOTAL_PERS'], axis =1)\n",
    "inter.head()"
   ]
  },
  {
   "cell_type": "code",
   "execution_count": null,
   "metadata": {
    "id": "QWzSapQSQM9E",
    "scrolled": true
   },
   "outputs": [],
   "source": [
    "def union_superficies(id_,inter):\n",
    "    filas = inter.loc[inter['cell']==id_]\n",
    "    m2 = filas[f'm2 prop'].sum()\n",
    "    return m2\n",
    "\n",
    "celdas_rm['M2_Poblacion_Celdas_549'] = celdas_rm.apply(lambda row: union_superficies(row['cell'],inter), axis =1)\n",
    "\n",
    "# Muchas son 0 porque no están en la intersección\n",
    "display(celdas_rm)"
   ]
  },
  {
   "cell_type": "code",
   "execution_count": null,
   "metadata": {
    "id": "jE2jb2r0QM9E"
   },
   "outputs": [],
   "source": [
    "Total1 = celdas_rm['M2_Poblacion_Celdas_549'].sum()\n",
    "print (\"Total Personas:\",Total1)"
   ]
  },
  {
   "cell_type": "code",
   "execution_count": null,
   "metadata": {
    "id": "fqJ71-cbQM9E"
   },
   "outputs": [],
   "source": [
    "celdas_rm = celdas_rm.drop([\"centers\"], axis = 1)"
   ]
  },
  {
   "cell_type": "code",
   "execution_count": null,
   "metadata": {
    "id": "sm3sPws6QM9F"
   },
   "outputs": [],
   "source": [
    "celdas_rm.to_file(\"poblacion_549.shp\")"
   ]
  },
  {
   "cell_type": "code",
   "execution_count": null,
   "metadata": {
    "id": "vy84uIjaQM9F"
   },
   "outputs": [],
   "source": []
  }
 ],
 "metadata": {
  "colab": {
   "provenance": []
  },
  "kernelspec": {
   "display_name": "Python 3 (ipykernel)",
   "language": "python",
   "name": "python3"
  },
  "language_info": {
   "codemirror_mode": {
    "name": "ipython",
    "version": 3
   },
   "file_extension": ".py",
   "mimetype": "text/x-python",
   "name": "python",
   "nbconvert_exporter": "python",
   "pygments_lexer": "ipython3",
   "version": "3.10.4"
  }
 },
 "nbformat": 4,
 "nbformat_minor": 0
}
