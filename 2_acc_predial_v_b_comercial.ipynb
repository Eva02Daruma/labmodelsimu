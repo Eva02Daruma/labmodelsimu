{
 "cells": [
  {
   "cell_type": "code",
   "execution_count": 1,
   "outputs": [
    {
     "name": "stderr",
     "output_type": "stream",
     "text": [
      "/var/folders/ys/jxxv1yt57zlfqd9gmyxrs_nh0000gn/T/ipykernel_76300/2955220175.py:16: UserWarning: The `utils.config` function is deprecated and will be removed in a future release. Instead, use the `settings` module directly to configure a global setting's value. For example, `ox.settings.log_console=True`.\n",
      "  ox.config(use_cache=True, log_console=True)\n"
     ]
    },
    {
     "data": {
      "text/plain": "'1.7.1'"
     },
     "execution_count": 1,
     "metadata": {},
     "output_type": "execute_result"
    }
   ],
   "source": [
    "\n",
    "!pip install osm --no-binary :all:"
   ],
   "metadata": {
    "collapsed": false,
    "ExecuteTime": {
     "end_time": "2023-11-09T13:29:15.123835Z",
     "start_time": "2023-11-09T13:29:13.435085Z"
    }
   }
  },
  {
   "cell_type": "code",
   "execution_count": 2,
   "metadata": {
    "ExecuteTime": {
     "end_time": "2023-11-09T13:29:20.630750Z",
     "start_time": "2023-11-09T13:29:19.442296Z"
    }
   },
   "outputs": [
    {
     "ename": "DriverError",
     "evalue": "C:\\Users\\guret\\Desktop\\UrbanLogistics_Summer\\Accesibilidad\\celdas_lineas_rm_549_2019.shp: No such file or directory",
     "output_type": "error",
     "traceback": [
      "\u001B[0;31m---------------------------------------------------------------------------\u001B[0m",
      "\u001B[0;31mCPLE_OpenFailedError\u001B[0m                      Traceback (most recent call last)",
      "File \u001B[0;32mfiona/ogrext.pyx:136\u001B[0m, in \u001B[0;36mfiona.ogrext.gdal_open_vector\u001B[0;34m()\u001B[0m\n",
      "File \u001B[0;32mfiona/_err.pyx:291\u001B[0m, in \u001B[0;36mfiona._err.exc_wrap_pointer\u001B[0;34m()\u001B[0m\n",
      "\u001B[0;31mCPLE_OpenFailedError\u001B[0m: C:\\Users\\guret\\Desktop\\UrbanLogistics_Summer\\Accesibilidad\\celdas_lineas_rm_549_2019.shp: No such file or directory",
      "\nDuring handling of the above exception, another exception occurred:\n",
      "\u001B[0;31mDriverError\u001B[0m                               Traceback (most recent call last)",
      "Cell \u001B[0;32mIn[2], line 3\u001B[0m\n\u001B[1;32m      1\u001B[0m \u001B[38;5;66;03m#bd_celdas_rm = (r'D:\\TESIS PHD ING TRANSPORTES\\Investigación 1\\Definitivo\\Predios_Lineas\\Lineas_Log_Macrozona\\Lineas RM\\celdas_lineas_rm_549_2015_COM.shp')\u001B[39;00m\n\u001B[1;32m      2\u001B[0m bd_celdas_rm \u001B[38;5;241m=\u001B[39m (\u001B[38;5;124mr\u001B[39m\u001B[38;5;124m'\u001B[39m\u001B[38;5;124mC:\u001B[39m\u001B[38;5;124m\\\u001B[39m\u001B[38;5;124mUsers\u001B[39m\u001B[38;5;124m\\\u001B[39m\u001B[38;5;124mguret\u001B[39m\u001B[38;5;124m\\\u001B[39m\u001B[38;5;124mDesktop\u001B[39m\u001B[38;5;124m\\\u001B[39m\u001B[38;5;124mUrbanLogistics_Summer\u001B[39m\u001B[38;5;124m\\\u001B[39m\u001B[38;5;124mAccesibilidad\u001B[39m\u001B[38;5;124m\\\u001B[39m\u001B[38;5;124mceldas_lineas_rm_549_2019.shp\u001B[39m\u001B[38;5;124m'\u001B[39m)\n\u001B[0;32m----> 3\u001B[0m celdas_rm \u001B[38;5;241m=\u001B[39m \u001B[43mgpd\u001B[49m\u001B[38;5;241;43m.\u001B[39;49m\u001B[43mread_file\u001B[49m\u001B[43m(\u001B[49m\u001B[43mbd_celdas_rm\u001B[49m\u001B[43m)\u001B[49m\n",
      "File \u001B[0;32m~/PycharmProjects/labmodelsimu/venv/lib/python3.10/site-packages/geopandas/io/file.py:297\u001B[0m, in \u001B[0;36m_read_file\u001B[0;34m(filename, bbox, mask, rows, engine, **kwargs)\u001B[0m\n\u001B[1;32m    294\u001B[0m     \u001B[38;5;28;01melse\u001B[39;00m:\n\u001B[1;32m    295\u001B[0m         path_or_bytes \u001B[38;5;241m=\u001B[39m filename\n\u001B[0;32m--> 297\u001B[0m     \u001B[38;5;28;01mreturn\u001B[39;00m \u001B[43m_read_file_fiona\u001B[49m\u001B[43m(\u001B[49m\n\u001B[1;32m    298\u001B[0m \u001B[43m        \u001B[49m\u001B[43mpath_or_bytes\u001B[49m\u001B[43m,\u001B[49m\u001B[43m \u001B[49m\u001B[43mfrom_bytes\u001B[49m\u001B[43m,\u001B[49m\u001B[43m \u001B[49m\u001B[43mbbox\u001B[49m\u001B[38;5;241;43m=\u001B[39;49m\u001B[43mbbox\u001B[49m\u001B[43m,\u001B[49m\u001B[43m \u001B[49m\u001B[43mmask\u001B[49m\u001B[38;5;241;43m=\u001B[39;49m\u001B[43mmask\u001B[49m\u001B[43m,\u001B[49m\u001B[43m \u001B[49m\u001B[43mrows\u001B[49m\u001B[38;5;241;43m=\u001B[39;49m\u001B[43mrows\u001B[49m\u001B[43m,\u001B[49m\u001B[43m \u001B[49m\u001B[38;5;241;43m*\u001B[39;49m\u001B[38;5;241;43m*\u001B[39;49m\u001B[43mkwargs\u001B[49m\n\u001B[1;32m    299\u001B[0m \u001B[43m    \u001B[49m\u001B[43m)\u001B[49m\n\u001B[1;32m    301\u001B[0m \u001B[38;5;28;01melse\u001B[39;00m:\n\u001B[1;32m    302\u001B[0m     \u001B[38;5;28;01mraise\u001B[39;00m \u001B[38;5;167;01mValueError\u001B[39;00m(\u001B[38;5;124mf\u001B[39m\u001B[38;5;124m\"\u001B[39m\u001B[38;5;124munknown engine \u001B[39m\u001B[38;5;124m'\u001B[39m\u001B[38;5;132;01m{\u001B[39;00mengine\u001B[38;5;132;01m}\u001B[39;00m\u001B[38;5;124m'\u001B[39m\u001B[38;5;124m\"\u001B[39m)\n",
      "File \u001B[0;32m~/PycharmProjects/labmodelsimu/venv/lib/python3.10/site-packages/geopandas/io/file.py:338\u001B[0m, in \u001B[0;36m_read_file_fiona\u001B[0;34m(path_or_bytes, from_bytes, bbox, mask, rows, where, **kwargs)\u001B[0m\n\u001B[1;32m    335\u001B[0m     reader \u001B[38;5;241m=\u001B[39m fiona\u001B[38;5;241m.\u001B[39mopen\n\u001B[1;32m    337\u001B[0m \u001B[38;5;28;01mwith\u001B[39;00m fiona_env():\n\u001B[0;32m--> 338\u001B[0m     \u001B[38;5;28;01mwith\u001B[39;00m \u001B[43mreader\u001B[49m\u001B[43m(\u001B[49m\u001B[43mpath_or_bytes\u001B[49m\u001B[43m,\u001B[49m\u001B[43m \u001B[49m\u001B[38;5;241;43m*\u001B[39;49m\u001B[38;5;241;43m*\u001B[39;49m\u001B[43mkwargs\u001B[49m\u001B[43m)\u001B[49m \u001B[38;5;28;01mas\u001B[39;00m features:\n\u001B[1;32m    339\u001B[0m         crs \u001B[38;5;241m=\u001B[39m features\u001B[38;5;241m.\u001B[39mcrs_wkt\n\u001B[1;32m    340\u001B[0m         \u001B[38;5;66;03m# attempt to get EPSG code\u001B[39;00m\n",
      "File \u001B[0;32m~/PycharmProjects/labmodelsimu/venv/lib/python3.10/site-packages/fiona/env.py:457\u001B[0m, in \u001B[0;36mensure_env_with_credentials.<locals>.wrapper\u001B[0;34m(*args, **kwds)\u001B[0m\n\u001B[1;32m    454\u001B[0m     session \u001B[38;5;241m=\u001B[39m DummySession()\n\u001B[1;32m    456\u001B[0m \u001B[38;5;28;01mwith\u001B[39;00m env_ctor(session\u001B[38;5;241m=\u001B[39msession):\n\u001B[0;32m--> 457\u001B[0m     \u001B[38;5;28;01mreturn\u001B[39;00m \u001B[43mf\u001B[49m\u001B[43m(\u001B[49m\u001B[38;5;241;43m*\u001B[39;49m\u001B[43margs\u001B[49m\u001B[43m,\u001B[49m\u001B[43m \u001B[49m\u001B[38;5;241;43m*\u001B[39;49m\u001B[38;5;241;43m*\u001B[39;49m\u001B[43mkwds\u001B[49m\u001B[43m)\u001B[49m\n",
      "File \u001B[0;32m~/PycharmProjects/labmodelsimu/venv/lib/python3.10/site-packages/fiona/__init__.py:292\u001B[0m, in \u001B[0;36mopen\u001B[0;34m(fp, mode, driver, schema, crs, encoding, layer, vfs, enabled_drivers, crs_wkt, allow_unsupported_drivers, **kwargs)\u001B[0m\n\u001B[1;32m    289\u001B[0m     path \u001B[38;5;241m=\u001B[39m parse_path(fp)\n\u001B[1;32m    291\u001B[0m \u001B[38;5;28;01mif\u001B[39;00m mode \u001B[38;5;129;01min\u001B[39;00m (\u001B[38;5;124m\"\u001B[39m\u001B[38;5;124ma\u001B[39m\u001B[38;5;124m\"\u001B[39m, \u001B[38;5;124m\"\u001B[39m\u001B[38;5;124mr\u001B[39m\u001B[38;5;124m\"\u001B[39m):\n\u001B[0;32m--> 292\u001B[0m     colxn \u001B[38;5;241m=\u001B[39m \u001B[43mCollection\u001B[49m\u001B[43m(\u001B[49m\n\u001B[1;32m    293\u001B[0m \u001B[43m        \u001B[49m\u001B[43mpath\u001B[49m\u001B[43m,\u001B[49m\n\u001B[1;32m    294\u001B[0m \u001B[43m        \u001B[49m\u001B[43mmode\u001B[49m\u001B[43m,\u001B[49m\n\u001B[1;32m    295\u001B[0m \u001B[43m        \u001B[49m\u001B[43mdriver\u001B[49m\u001B[38;5;241;43m=\u001B[39;49m\u001B[43mdriver\u001B[49m\u001B[43m,\u001B[49m\n\u001B[1;32m    296\u001B[0m \u001B[43m        \u001B[49m\u001B[43mencoding\u001B[49m\u001B[38;5;241;43m=\u001B[39;49m\u001B[43mencoding\u001B[49m\u001B[43m,\u001B[49m\n\u001B[1;32m    297\u001B[0m \u001B[43m        \u001B[49m\u001B[43mlayer\u001B[49m\u001B[38;5;241;43m=\u001B[39;49m\u001B[43mlayer\u001B[49m\u001B[43m,\u001B[49m\n\u001B[1;32m    298\u001B[0m \u001B[43m        \u001B[49m\u001B[43menabled_drivers\u001B[49m\u001B[38;5;241;43m=\u001B[39;49m\u001B[43menabled_drivers\u001B[49m\u001B[43m,\u001B[49m\n\u001B[1;32m    299\u001B[0m \u001B[43m        \u001B[49m\u001B[43mallow_unsupported_drivers\u001B[49m\u001B[38;5;241;43m=\u001B[39;49m\u001B[43mallow_unsupported_drivers\u001B[49m\u001B[43m,\u001B[49m\n\u001B[1;32m    300\u001B[0m \u001B[43m        \u001B[49m\u001B[38;5;241;43m*\u001B[39;49m\u001B[38;5;241;43m*\u001B[39;49m\u001B[43mkwargs\u001B[49m\n\u001B[1;32m    301\u001B[0m \u001B[43m    \u001B[49m\u001B[43m)\u001B[49m\n\u001B[1;32m    302\u001B[0m \u001B[38;5;28;01melif\u001B[39;00m mode \u001B[38;5;241m==\u001B[39m \u001B[38;5;124m\"\u001B[39m\u001B[38;5;124mw\u001B[39m\u001B[38;5;124m\"\u001B[39m:\n\u001B[1;32m    303\u001B[0m     colxn \u001B[38;5;241m=\u001B[39m Collection(\n\u001B[1;32m    304\u001B[0m         path,\n\u001B[1;32m    305\u001B[0m         mode,\n\u001B[0;32m   (...)\u001B[0m\n\u001B[1;32m    314\u001B[0m         \u001B[38;5;241m*\u001B[39m\u001B[38;5;241m*\u001B[39mkwargs\n\u001B[1;32m    315\u001B[0m     )\n",
      "File \u001B[0;32m~/PycharmProjects/labmodelsimu/venv/lib/python3.10/site-packages/fiona/collection.py:243\u001B[0m, in \u001B[0;36mCollection.__init__\u001B[0;34m(self, path, mode, driver, schema, crs, encoding, layer, vsi, archive, enabled_drivers, crs_wkt, ignore_fields, ignore_geometry, include_fields, wkt_version, allow_unsupported_drivers, **kwargs)\u001B[0m\n\u001B[1;32m    241\u001B[0m \u001B[38;5;28;01mif\u001B[39;00m \u001B[38;5;28mself\u001B[39m\u001B[38;5;241m.\u001B[39mmode \u001B[38;5;241m==\u001B[39m \u001B[38;5;124m\"\u001B[39m\u001B[38;5;124mr\u001B[39m\u001B[38;5;124m\"\u001B[39m:\n\u001B[1;32m    242\u001B[0m     \u001B[38;5;28mself\u001B[39m\u001B[38;5;241m.\u001B[39msession \u001B[38;5;241m=\u001B[39m Session()\n\u001B[0;32m--> 243\u001B[0m     \u001B[38;5;28;43mself\u001B[39;49m\u001B[38;5;241;43m.\u001B[39;49m\u001B[43msession\u001B[49m\u001B[38;5;241;43m.\u001B[39;49m\u001B[43mstart\u001B[49m\u001B[43m(\u001B[49m\u001B[38;5;28;43mself\u001B[39;49m\u001B[43m,\u001B[49m\u001B[43m \u001B[49m\u001B[38;5;241;43m*\u001B[39;49m\u001B[38;5;241;43m*\u001B[39;49m\u001B[43mkwargs\u001B[49m\u001B[43m)\u001B[49m\n\u001B[1;32m    244\u001B[0m \u001B[38;5;28;01melif\u001B[39;00m \u001B[38;5;28mself\u001B[39m\u001B[38;5;241m.\u001B[39mmode \u001B[38;5;129;01min\u001B[39;00m (\u001B[38;5;124m\"\u001B[39m\u001B[38;5;124ma\u001B[39m\u001B[38;5;124m\"\u001B[39m, \u001B[38;5;124m\"\u001B[39m\u001B[38;5;124mw\u001B[39m\u001B[38;5;124m\"\u001B[39m):\n\u001B[1;32m    245\u001B[0m     \u001B[38;5;28mself\u001B[39m\u001B[38;5;241m.\u001B[39msession \u001B[38;5;241m=\u001B[39m WritingSession()\n",
      "File \u001B[0;32mfiona/ogrext.pyx:588\u001B[0m, in \u001B[0;36mfiona.ogrext.Session.start\u001B[0;34m()\u001B[0m\n",
      "File \u001B[0;32mfiona/ogrext.pyx:143\u001B[0m, in \u001B[0;36mfiona.ogrext.gdal_open_vector\u001B[0;34m()\u001B[0m\n",
      "\u001B[0;31mDriverError\u001B[0m: C:\\Users\\guret\\Desktop\\UrbanLogistics_Summer\\Accesibilidad\\celdas_lineas_rm_549_2019.shp: No such file or directory"
     ]
    }
   ],
   "source": [
    "import pandas as pd\n",
    "import geopandas as gpd\n",
    "import numpy as np\n",
    "from math import exp as e\n",
    "import matplotlib.pyplot as plt\n",
    "import time\n",
    "import networkx as nx\n",
    "import osmnx as ox\n",
    "from pandana.loaders import osm\n",
    "from shapely.geometry import Point, Polygon\n",
    "import multiprocessing as mp\n",
    "import io\n",
    "from shapely.geometry import Point, MultiPoint\n",
    "from shapely.ops import nearest_points\n",
    "%matplotlib inline\n",
    "ox.config(use_cache=True, log_console=True)\n",
    "ox.__version__"
   ]
  },
  {
   "cell_type": "code",
   "execution_count": null,
   "metadata": {},
   "outputs": [],
   "source": [
    "#bd_celdas_rm = (r'D:\\TESIS PHD ING TRANSPORTES\\Investigación 1\\Definitivo\\Predios_Lineas\\Lineas_Log_Macrozona\\Lineas RM\\celdas_lineas_rm_549_2015_COM.shp')\n",
    "bd_celdas_rm = (r'C:\\Users\\guret\\Desktop\\UrbanLogistics_Summer\\Accesibilidad\\celdas_lineas_rm_549_2019.shp')\n",
    "celdas_rm = gpd.read_file(bd_celdas_rm)"
   ]
  },
  {
   "cell_type": "code",
   "execution_count": null,
   "metadata": {},
   "outputs": [],
   "source": [
    "celdas_rm['centroid'] = celdas_rm.centroid"
   ]
  },
  {
   "cell_type": "code",
   "execution_count": null,
   "metadata": {
    "scrolled": false
   },
   "outputs": [],
   "source": [
    "display(celdas_rm)"
   ]
  },
  {
   "cell_type": "code",
   "execution_count": null,
   "metadata": {},
   "outputs": [],
   "source": [
    "celdas_rm[\"lat\"] = celdas_rm.centroid.x\n",
    "celdas_rm[\"lon\"] = celdas_rm.centroid.y"
   ]
  },
  {
   "cell_type": "code",
   "execution_count": null,
   "metadata": {
    "scrolled": false
   },
   "outputs": [],
   "source": [
    "display(celdas_rm)"
   ]
  },
  {
   "cell_type": "code",
   "execution_count": null,
   "metadata": {
    "scrolled": false
   },
   "outputs": [],
   "source": [
    "celdas_rm.columns"
   ]
  },
  {
   "cell_type": "code",
   "execution_count": null,
   "metadata": {
    "scrolled": false
   },
   "outputs": [],
   "source": [
    "# Definir nuestras funciones de accesibilidad (caminata y vehiculos)\n",
    "\n",
    "## Vehiculos (Exp Negativa)\n",
    "power = -0.00072779540527115486884128506462084  #ln0,5/952,39290539585 #ln0,5/46,52\n",
    "f_acc_veh = lambda d: e(1)**(power*d)\n",
    "\n",
    "def plot(f, start = 1, end = 10000, n = 200): #minutos\n",
    "    xs = np.linspace(start, end, n)\n",
    "    fig = plt.figure()\n",
    "    plt.plot(xs, [f(x) for x in xs], 'r')\n",
    "    plt.show()\n",
    "\n",
    "## Bicicletas (Exp Negativa)\n",
    "#power = -0.09902102579427790134531887449403 #ln0,25/14\n",
    "#f_acc_bici = lambda d: e(1)**(power*d)\n",
    "\n",
    "plot(f_acc_veh)\n",
    "#plot(f_acc_bici)"
   ]
  },
  {
   "cell_type": "code",
   "execution_count": null,
   "metadata": {},
   "outputs": [],
   "source": [
    "## Funciones de distancia y tiempo\n",
    "def distancia(celdas_rm, id_origen, id_destino):\n",
    "    ori = celdas_rm.loc[celdas_rm['cell'] == id_origen]['centroid'].iloc[0]\n",
    "    des = celdas_rm.loc[celdas_rm['cell'] == id_destino]['centroid'].iloc[0]\n",
    "    d = ori.distance(des)\n",
    "    return d\n",
    "\n",
    "def tiempo(celdas_rm, modo, id_origen, id_destino):\n",
    "    dist_m = distancia(celdas_rm, id_origen, id_destino)\n",
    "    if modo == 'veh':\n",
    "        v = 25 # km/h\n",
    "    elif modo == 'bici':\n",
    "        v = 14 #km/h\n",
    "    t = ((dist_m/1000)/v)*60\n",
    "    return t"
   ]
  },
  {
   "cell_type": "code",
   "execution_count": null,
   "metadata": {},
   "outputs": [],
   "source": [
    "#def acc_lc399(celdas_rm, modo, celda):\n",
    "#    if modo == 'veh':\n",
    "#        celdas_rm['aux'] = celdas_rm.apply(lambda row: row['M2_Com9_Li']*f_acc_veh(distancia(celdas_rm, celda, row['cell'])), axis = 1)\n",
    "#    elif modo == 'bici':\n",
    "#        celdas_rm['aux'] = celdas_rm.apply(lambda row: row['M2_Com9_Li']*f_acc_bici(distancia(celdas_rm, celda, row['cell'])), axis = 1)\n",
    "#    acc_total = celdas_rm['aux'].sum()\n",
    "#    return acc_total\n",
    "\n",
    "def acc_com399(celdas_rm, modo, celda):\n",
    "    if modo == 'veh':\n",
    "        celdas_rm['aux'] = celdas_rm.apply(lambda row: row['M2_Com399']*f_acc_veh(distancia(celdas_rm, celda, row['cell'])), axis = 1)\n",
    "    elif modo == 'bici':\n",
    "        celdas_rm['aux'] = celdas_rm.apply(lambda row: row['M2_Com399']*f_acc_bici(distancia(celdas_rm, celda, row['cell'])), axis = 1)\n",
    "    acc_total = celdas_rm['aux'].sum()\n",
    "    return acc_total\n",
    "\n",
    "def acc_com400(celdas_rm, modo, celda):\n",
    "    if modo == 'veh':\n",
    "        celdas_rm['aux'] = celdas_rm.apply(lambda row: row['M2_Com400']*f_acc_veh(distancia(celdas_rm, celda, row['cell'])), axis = 1)\n",
    "    elif modo == 'bici':\n",
    "        celdas_rm['aux'] = celdas_rm.apply(lambda row: row['M2_Com400']*f_acc_bici(distancia(celdas_rm, celda, row['cell'])), axis = 1)\n",
    "    acc_total = celdas_rm['aux'].sum()\n",
    "    return acc_total\n",
    "\n",
    "def acc_hab(celdas_rm, modo, celda):\n",
    "    if modo == 'veh':\n",
    "        celdas_rm['aux'] = celdas_rm.apply(lambda row: row['M2_HAB']*f_acc_veh(distancia(celdas_rm, celda, row['cell'])), axis = 1)\n",
    "    elif modo == 'bici':\n",
    "        celdas_rm['aux'] = celdas_rm.apply(lambda row: row['M2_HAB']*f_acc_bici(distancia(celdas_rm, celda, row['cell'])), axis = 1)\n",
    "    acc_total = celdas_rm['aux'].sum()\n",
    "    return acc_total\n",
    "\n",
    "def acc_est(celdas_rm, modo, celda):\n",
    "    if modo == 'veh':\n",
    "        celdas_rm['aux'] = celdas_rm.apply(lambda row: row['M2_EST']*f_acc_veh(distancia(celdas_rm, celda, row['cell'])), axis = 1)\n",
    "    elif modo == 'bici':\n",
    "        celdas_rm['aux'] = celdas_rm.apply(lambda row: row['M2_EST']*f_acc_bici(distancia(celdas_rm, celda, row['cell'])), axis = 1)\n",
    "    acc_total = celdas_rm['aux'].sum()\n",
    "    return acc_total"
   ]
  },
  {
   "cell_type": "code",
   "execution_count": null,
   "metadata": {},
   "outputs": [],
   "source": []
  },
  {
   "cell_type": "code",
   "execution_count": null,
   "metadata": {
    "scrolled": false
   },
   "outputs": [],
   "source": [
    "#celdas_rm['acc_lc399'] = celdas_rm.apply(lambda row: acc_lc399(celdas_rm, 'veh', row['cell']), axis = 1)"
   ]
  },
  {
   "cell_type": "code",
   "execution_count": null,
   "metadata": {},
   "outputs": [],
   "source": [
    "%%time\n",
    "celdas_rm['acc_com399'] = celdas_rm.apply(lambda row: acc_com399(celdas_rm, 'veh', row['cell']), axis = 1)"
   ]
  },
  {
   "cell_type": "code",
   "execution_count": null,
   "metadata": {},
   "outputs": [],
   "source": [
    "%%time\n",
    "celdas_rm['acc_com400'] = celdas_rm.apply(lambda row: acc_com400(celdas_rm, 'veh', row['cell']), axis = 1)"
   ]
  },
  {
   "cell_type": "code",
   "execution_count": null,
   "metadata": {},
   "outputs": [],
   "source": [
    "%%time\n",
    "celdas_rm['acc_hab'] = celdas_rm.apply(lambda row: acc_hab(celdas_rm, 'veh', row['cell']), axis = 1)"
   ]
  },
  {
   "cell_type": "code",
   "execution_count": null,
   "metadata": {
    "scrolled": false
   },
   "outputs": [],
   "source": [
    "%%time\n",
    "celdas_rm['acc_est'] = celdas_rm.apply(lambda row: acc_est(celdas_rm, 'veh', row['cell']), axis = 1)"
   ]
  },
  {
   "cell_type": "code",
   "execution_count": null,
   "metadata": {},
   "outputs": [],
   "source": [
    "display(celdas_rm)"
   ]
  },
  {
   "cell_type": "code",
   "execution_count": null,
   "metadata": {},
   "outputs": [],
   "source": [
    "celdas_rm = celdas_rm.drop([\"centroid\"], axis = 1)"
   ]
  },
  {
   "cell_type": "code",
   "execution_count": null,
   "metadata": {},
   "outputs": [],
   "source": [
    "celdas_rm.to_file(\"acc_2019.shp\")"
   ]
  },
  {
   "cell_type": "code",
   "execution_count": null,
   "outputs": [],
   "source": [],
   "metadata": {
    "collapsed": false
   }
  }
 ],
 "metadata": {
  "kernelspec": {
   "display_name": "Python 3 (ipykernel)",
   "language": "python",
   "name": "python3"
  },
  "language_info": {
   "codemirror_mode": {
    "name": "ipython",
    "version": 3
   },
   "file_extension": ".py",
   "mimetype": "text/x-python",
   "name": "python",
   "nbconvert_exporter": "python",
   "pygments_lexer": "ipython3",
   "version": "3.7.10"
  }
 },
 "nbformat": 4,
 "nbformat_minor": 4
}
