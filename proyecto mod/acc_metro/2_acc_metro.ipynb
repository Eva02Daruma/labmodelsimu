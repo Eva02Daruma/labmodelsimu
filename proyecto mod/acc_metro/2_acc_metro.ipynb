{
 "cells": [
  {
   "cell_type": "code",
   "execution_count": 36,
   "metadata": {
    "ExecuteTime": {
     "end_time": "2023-11-19T04:25:17.011895Z",
     "start_time": "2023-11-19T04:25:16.962284Z"
    }
   },
   "outputs": [],
   "source": [
    "import pandas as pd\n",
    "import geopandas as gpd\n",
    "import numpy as np\n",
    "from math import exp as e\n",
    "import matplotlib.pyplot as plt\n",
    "import time\n",
    "#import networkx as nx\n",
    "#import osmnx as ox\n",
    "#from pandana.loaders import osm\n",
    "from shapely.geometry import Point, Polygon\n",
    "import multiprocessing as mp\n",
    "import io\n",
    "from shapely.geometry import Point, MultiPoint\n",
    "from shapely.ops import nearest_points\n",
    "%matplotlib inline\n",
    "#ox.config(use_cache=True, log_console=True)\n",
    "#ox.__version__"
   ]
  },
  {
   "cell_type": "code",
   "execution_count": 37,
   "metadata": {
    "ExecuteTime": {
     "end_time": "2023-11-19T04:25:17.264568Z",
     "start_time": "2023-11-19T04:25:16.980294Z"
    }
   },
   "outputs": [],
   "source": [
    "bd_celdas_rm = ('acc_metro.shp')\n",
    "celdas_rm = gpd.read_file(bd_celdas_rm)"
   ]
  },
  {
   "cell_type": "code",
   "execution_count": 38,
   "metadata": {
    "ExecuteTime": {
     "end_time": "2023-11-19T04:25:17.269909Z",
     "start_time": "2023-11-19T04:25:17.265025Z"
    }
   },
   "outputs": [],
   "source": [
    "celdas_rm['centroid'] = celdas_rm.centroid"
   ]
  },
  {
   "cell_type": "code",
   "execution_count": 39,
   "metadata": {
    "scrolled": false,
    "ExecuteTime": {
     "end_time": "2023-11-19T04:25:17.298159Z",
     "start_time": "2023-11-19T04:25:17.286120Z"
    }
   },
   "outputs": [
    {
     "data": {
      "text/plain": "      cell          area COMUNA MANZ_SII   NOM_COMUNA       CMN_MZ  \\\n0        8  58456.714755  15103      888  PROVIDENCIA    15103-888   \n1        9  58456.714755  15103      888  PROVIDENCIA    15103-888   \n2       10  58456.714755  15103      888  PROVIDENCIA    15103-888   \n3       27  58456.714755  15103      888  PROVIDENCIA    15103-888   \n4       28  58456.714755  15103      888  PROVIDENCIA    15103-888   \n...    ...           ...    ...      ...          ...          ...   \n1813   411  58456.714755  15103    13048  PROVIDENCIA  15103-13048   \n1814   429  58456.714755  15103    13048  PROVIDENCIA  15103-13048   \n1815   411  58456.714755  15103    12748  PROVIDENCIA  15103-12748   \n1816   412  58456.714755  15103    12748  PROVIDENCIA  15103-12748   \n1817   411  58456.714755  15103    12847  PROVIDENCIA  15103-12847   \n\n            AREA_1              layer  \\\n0     208524.86926  Manzanas_Santiago   \n1     208524.86926  Manzanas_Santiago   \n2     208524.86926  Manzanas_Santiago   \n3     208524.86926  Manzanas_Santiago   \n4     208524.86926  Manzanas_Santiago   \n...            ...                ...   \n1813   12164.47900  Manzanas_Santiago   \n1814   12164.47900  Manzanas_Santiago   \n1815   11801.09546  Manzanas_Santiago   \n1816   11801.09546  Manzanas_Santiago   \n1817    6779.43286  Manzanas_Santiago   \n\n                                                   path  m2_manz   Estacion  \\\n0     D:/TESIS PHD ING TRANSPORTES/Investigación 1/I...  12404.0   SALVADOR   \n1     D:/TESIS PHD ING TRANSPORTES/Investigación 1/I...  12404.0  BAQUEDANO   \n2     D:/TESIS PHD ING TRANSPORTES/Investigación 1/I...  12404.0  BAQUEDANO   \n3     D:/TESIS PHD ING TRANSPORTES/Investigación 1/I...  12404.0   SALVADOR   \n4     D:/TESIS PHD ING TRANSPORTES/Investigación 1/I...  12404.0   SALVADOR   \n...                                                 ...      ...        ...   \n1813  D:/TESIS PHD ING TRANSPORTES/Investigación 1/I...  32240.0     BILBAO   \n1814  D:/TESIS PHD ING TRANSPORTES/Investigación 1/I...  32240.0     BILBAO   \n1815  D:/TESIS PHD ING TRANSPORTES/Investigación 1/I...   5803.0     BILBAO   \n1816  D:/TESIS PHD ING TRANSPORTES/Investigación 1/I...   5803.0     BILBAO   \n1817  D:/TESIS PHD ING TRANSPORTES/Investigación 1/I...   2068.0     BILBAO   \n\n         acc_metro            lat           lon           aux  \\\n0     9.109931e+06  348119.398092  6.300309e+06    450.028908   \n1     9.325714e+06  348047.903091  6.300011e+06    441.427177   \n2     9.453876e+06  348029.355562  6.299855e+06    440.410850   \n3     9.413509e+06  348220.276647  6.300395e+06    477.875456   \n4     9.849931e+06  348204.614800  6.300176e+06    486.249468   \n...            ...            ...           ...           ...   \n1813  7.944656e+06  352779.730361  6.299464e+06  32240.000000   \n1814  6.874520e+06  352826.470164  6.299485e+06  27357.387135   \n1815  7.944656e+06  352665.124402  6.299311e+06   5803.000000   \n1816  7.535454e+06  352694.478699  6.299250e+06   4399.310808   \n1817  7.944656e+06  352699.321229  6.299404e+06   2068.000000   \n\n                            geometry                        centroid  \n0     POINT (348119.398 6300309.088)  POINT (348119.398 6300309.088)  \n1     POINT (348047.903 6300010.850)  POINT (348047.903 6300010.850)  \n2     POINT (348029.356 6299854.887)  POINT (348029.356 6299854.887)  \n3     POINT (348220.277 6300394.845)  POINT (348220.277 6300394.845)  \n4     POINT (348204.615 6300176.390)  POINT (348204.615 6300176.390)  \n...                              ...                             ...  \n1813  POINT (352779.730 6299463.985)  POINT (352779.730 6299463.985)  \n1814  POINT (352826.470 6299484.957)  POINT (352826.470 6299484.957)  \n1815  POINT (352665.124 6299310.606)  POINT (352665.124 6299310.606)  \n1816  POINT (352694.479 6299249.971)  POINT (352694.479 6299249.971)  \n1817  POINT (352699.321 6299404.438)  POINT (352699.321 6299404.438)  \n\n[1818 rows x 17 columns]",
      "text/html": "<div>\n<style scoped>\n    .dataframe tbody tr th:only-of-type {\n        vertical-align: middle;\n    }\n\n    .dataframe tbody tr th {\n        vertical-align: top;\n    }\n\n    .dataframe thead th {\n        text-align: right;\n    }\n</style>\n<table border=\"1\" class=\"dataframe\">\n  <thead>\n    <tr style=\"text-align: right;\">\n      <th></th>\n      <th>cell</th>\n      <th>area</th>\n      <th>COMUNA</th>\n      <th>MANZ_SII</th>\n      <th>NOM_COMUNA</th>\n      <th>CMN_MZ</th>\n      <th>AREA_1</th>\n      <th>layer</th>\n      <th>path</th>\n      <th>m2_manz</th>\n      <th>Estacion</th>\n      <th>acc_metro</th>\n      <th>lat</th>\n      <th>lon</th>\n      <th>aux</th>\n      <th>geometry</th>\n      <th>centroid</th>\n    </tr>\n  </thead>\n  <tbody>\n    <tr>\n      <th>0</th>\n      <td>8</td>\n      <td>58456.714755</td>\n      <td>15103</td>\n      <td>888</td>\n      <td>PROVIDENCIA</td>\n      <td>15103-888</td>\n      <td>208524.86926</td>\n      <td>Manzanas_Santiago</td>\n      <td>D:/TESIS PHD ING TRANSPORTES/Investigación 1/I...</td>\n      <td>12404.0</td>\n      <td>SALVADOR</td>\n      <td>9.109931e+06</td>\n      <td>348119.398092</td>\n      <td>6.300309e+06</td>\n      <td>450.028908</td>\n      <td>POINT (348119.398 6300309.088)</td>\n      <td>POINT (348119.398 6300309.088)</td>\n    </tr>\n    <tr>\n      <th>1</th>\n      <td>9</td>\n      <td>58456.714755</td>\n      <td>15103</td>\n      <td>888</td>\n      <td>PROVIDENCIA</td>\n      <td>15103-888</td>\n      <td>208524.86926</td>\n      <td>Manzanas_Santiago</td>\n      <td>D:/TESIS PHD ING TRANSPORTES/Investigación 1/I...</td>\n      <td>12404.0</td>\n      <td>BAQUEDANO</td>\n      <td>9.325714e+06</td>\n      <td>348047.903091</td>\n      <td>6.300011e+06</td>\n      <td>441.427177</td>\n      <td>POINT (348047.903 6300010.850)</td>\n      <td>POINT (348047.903 6300010.850)</td>\n    </tr>\n    <tr>\n      <th>2</th>\n      <td>10</td>\n      <td>58456.714755</td>\n      <td>15103</td>\n      <td>888</td>\n      <td>PROVIDENCIA</td>\n      <td>15103-888</td>\n      <td>208524.86926</td>\n      <td>Manzanas_Santiago</td>\n      <td>D:/TESIS PHD ING TRANSPORTES/Investigación 1/I...</td>\n      <td>12404.0</td>\n      <td>BAQUEDANO</td>\n      <td>9.453876e+06</td>\n      <td>348029.355562</td>\n      <td>6.299855e+06</td>\n      <td>440.410850</td>\n      <td>POINT (348029.356 6299854.887)</td>\n      <td>POINT (348029.356 6299854.887)</td>\n    </tr>\n    <tr>\n      <th>3</th>\n      <td>27</td>\n      <td>58456.714755</td>\n      <td>15103</td>\n      <td>888</td>\n      <td>PROVIDENCIA</td>\n      <td>15103-888</td>\n      <td>208524.86926</td>\n      <td>Manzanas_Santiago</td>\n      <td>D:/TESIS PHD ING TRANSPORTES/Investigación 1/I...</td>\n      <td>12404.0</td>\n      <td>SALVADOR</td>\n      <td>9.413509e+06</td>\n      <td>348220.276647</td>\n      <td>6.300395e+06</td>\n      <td>477.875456</td>\n      <td>POINT (348220.277 6300394.845)</td>\n      <td>POINT (348220.277 6300394.845)</td>\n    </tr>\n    <tr>\n      <th>4</th>\n      <td>28</td>\n      <td>58456.714755</td>\n      <td>15103</td>\n      <td>888</td>\n      <td>PROVIDENCIA</td>\n      <td>15103-888</td>\n      <td>208524.86926</td>\n      <td>Manzanas_Santiago</td>\n      <td>D:/TESIS PHD ING TRANSPORTES/Investigación 1/I...</td>\n      <td>12404.0</td>\n      <td>SALVADOR</td>\n      <td>9.849931e+06</td>\n      <td>348204.614800</td>\n      <td>6.300176e+06</td>\n      <td>486.249468</td>\n      <td>POINT (348204.615 6300176.390)</td>\n      <td>POINT (348204.615 6300176.390)</td>\n    </tr>\n    <tr>\n      <th>...</th>\n      <td>...</td>\n      <td>...</td>\n      <td>...</td>\n      <td>...</td>\n      <td>...</td>\n      <td>...</td>\n      <td>...</td>\n      <td>...</td>\n      <td>...</td>\n      <td>...</td>\n      <td>...</td>\n      <td>...</td>\n      <td>...</td>\n      <td>...</td>\n      <td>...</td>\n      <td>...</td>\n      <td>...</td>\n    </tr>\n    <tr>\n      <th>1813</th>\n      <td>411</td>\n      <td>58456.714755</td>\n      <td>15103</td>\n      <td>13048</td>\n      <td>PROVIDENCIA</td>\n      <td>15103-13048</td>\n      <td>12164.47900</td>\n      <td>Manzanas_Santiago</td>\n      <td>D:/TESIS PHD ING TRANSPORTES/Investigación 1/I...</td>\n      <td>32240.0</td>\n      <td>BILBAO</td>\n      <td>7.944656e+06</td>\n      <td>352779.730361</td>\n      <td>6.299464e+06</td>\n      <td>32240.000000</td>\n      <td>POINT (352779.730 6299463.985)</td>\n      <td>POINT (352779.730 6299463.985)</td>\n    </tr>\n    <tr>\n      <th>1814</th>\n      <td>429</td>\n      <td>58456.714755</td>\n      <td>15103</td>\n      <td>13048</td>\n      <td>PROVIDENCIA</td>\n      <td>15103-13048</td>\n      <td>12164.47900</td>\n      <td>Manzanas_Santiago</td>\n      <td>D:/TESIS PHD ING TRANSPORTES/Investigación 1/I...</td>\n      <td>32240.0</td>\n      <td>BILBAO</td>\n      <td>6.874520e+06</td>\n      <td>352826.470164</td>\n      <td>6.299485e+06</td>\n      <td>27357.387135</td>\n      <td>POINT (352826.470 6299484.957)</td>\n      <td>POINT (352826.470 6299484.957)</td>\n    </tr>\n    <tr>\n      <th>1815</th>\n      <td>411</td>\n      <td>58456.714755</td>\n      <td>15103</td>\n      <td>12748</td>\n      <td>PROVIDENCIA</td>\n      <td>15103-12748</td>\n      <td>11801.09546</td>\n      <td>Manzanas_Santiago</td>\n      <td>D:/TESIS PHD ING TRANSPORTES/Investigación 1/I...</td>\n      <td>5803.0</td>\n      <td>BILBAO</td>\n      <td>7.944656e+06</td>\n      <td>352665.124402</td>\n      <td>6.299311e+06</td>\n      <td>5803.000000</td>\n      <td>POINT (352665.124 6299310.606)</td>\n      <td>POINT (352665.124 6299310.606)</td>\n    </tr>\n    <tr>\n      <th>1816</th>\n      <td>412</td>\n      <td>58456.714755</td>\n      <td>15103</td>\n      <td>12748</td>\n      <td>PROVIDENCIA</td>\n      <td>15103-12748</td>\n      <td>11801.09546</td>\n      <td>Manzanas_Santiago</td>\n      <td>D:/TESIS PHD ING TRANSPORTES/Investigación 1/I...</td>\n      <td>5803.0</td>\n      <td>BILBAO</td>\n      <td>7.535454e+06</td>\n      <td>352694.478699</td>\n      <td>6.299250e+06</td>\n      <td>4399.310808</td>\n      <td>POINT (352694.479 6299249.971)</td>\n      <td>POINT (352694.479 6299249.971)</td>\n    </tr>\n    <tr>\n      <th>1817</th>\n      <td>411</td>\n      <td>58456.714755</td>\n      <td>15103</td>\n      <td>12847</td>\n      <td>PROVIDENCIA</td>\n      <td>15103-12847</td>\n      <td>6779.43286</td>\n      <td>Manzanas_Santiago</td>\n      <td>D:/TESIS PHD ING TRANSPORTES/Investigación 1/I...</td>\n      <td>2068.0</td>\n      <td>BILBAO</td>\n      <td>7.944656e+06</td>\n      <td>352699.321229</td>\n      <td>6.299404e+06</td>\n      <td>2068.000000</td>\n      <td>POINT (352699.321 6299404.438)</td>\n      <td>POINT (352699.321 6299404.438)</td>\n    </tr>\n  </tbody>\n</table>\n<p>1818 rows × 17 columns</p>\n</div>"
     },
     "metadata": {},
     "output_type": "display_data"
    }
   ],
   "source": [
    "display(celdas_rm)"
   ]
  },
  {
   "cell_type": "code",
   "execution_count": 40,
   "metadata": {
    "ExecuteTime": {
     "end_time": "2023-11-19T04:25:17.319207Z",
     "start_time": "2023-11-19T04:25:17.299625Z"
    }
   },
   "outputs": [
    {
     "data": {
      "text/plain": "      cell          area COMUNA MANZ_SII   NOM_COMUNA       CMN_MZ  \\\n0        8  58456.714755  15103      888  PROVIDENCIA    15103-888   \n1        9  58456.714755  15103      888  PROVIDENCIA    15103-888   \n2       10  58456.714755  15103      888  PROVIDENCIA    15103-888   \n3       27  58456.714755  15103      888  PROVIDENCIA    15103-888   \n4       28  58456.714755  15103      888  PROVIDENCIA    15103-888   \n...    ...           ...    ...      ...          ...          ...   \n1813   411  58456.714755  15103    13048  PROVIDENCIA  15103-13048   \n1814   429  58456.714755  15103    13048  PROVIDENCIA  15103-13048   \n1815   411  58456.714755  15103    12748  PROVIDENCIA  15103-12748   \n1816   412  58456.714755  15103    12748  PROVIDENCIA  15103-12748   \n1817   411  58456.714755  15103    12847  PROVIDENCIA  15103-12847   \n\n            AREA_1              layer  \\\n0     208524.86926  Manzanas_Santiago   \n1     208524.86926  Manzanas_Santiago   \n2     208524.86926  Manzanas_Santiago   \n3     208524.86926  Manzanas_Santiago   \n4     208524.86926  Manzanas_Santiago   \n...            ...                ...   \n1813   12164.47900  Manzanas_Santiago   \n1814   12164.47900  Manzanas_Santiago   \n1815   11801.09546  Manzanas_Santiago   \n1816   11801.09546  Manzanas_Santiago   \n1817    6779.43286  Manzanas_Santiago   \n\n                                                   path  m2_manz   Estacion  \\\n0     D:/TESIS PHD ING TRANSPORTES/Investigación 1/I...  12404.0   SALVADOR   \n1     D:/TESIS PHD ING TRANSPORTES/Investigación 1/I...  12404.0  BAQUEDANO   \n2     D:/TESIS PHD ING TRANSPORTES/Investigación 1/I...  12404.0  BAQUEDANO   \n3     D:/TESIS PHD ING TRANSPORTES/Investigación 1/I...  12404.0   SALVADOR   \n4     D:/TESIS PHD ING TRANSPORTES/Investigación 1/I...  12404.0   SALVADOR   \n...                                                 ...      ...        ...   \n1813  D:/TESIS PHD ING TRANSPORTES/Investigación 1/I...  32240.0     BILBAO   \n1814  D:/TESIS PHD ING TRANSPORTES/Investigación 1/I...  32240.0     BILBAO   \n1815  D:/TESIS PHD ING TRANSPORTES/Investigación 1/I...   5803.0     BILBAO   \n1816  D:/TESIS PHD ING TRANSPORTES/Investigación 1/I...   5803.0     BILBAO   \n1817  D:/TESIS PHD ING TRANSPORTES/Investigación 1/I...   2068.0     BILBAO   \n\n         acc_metro            lat           lon           aux  \\\n0     9.109931e+06  348119.398092  6.300309e+06    450.028908   \n1     9.325714e+06  348047.903091  6.300011e+06    441.427177   \n2     9.453876e+06  348029.355562  6.299855e+06    440.410850   \n3     9.413509e+06  348220.276647  6.300395e+06    477.875456   \n4     9.849931e+06  348204.614800  6.300176e+06    486.249468   \n...            ...            ...           ...           ...   \n1813  7.944656e+06  352779.730361  6.299464e+06  32240.000000   \n1814  6.874520e+06  352826.470164  6.299485e+06  27357.387135   \n1815  7.944656e+06  352665.124402  6.299311e+06   5803.000000   \n1816  7.535454e+06  352694.478699  6.299250e+06   4399.310808   \n1817  7.944656e+06  352699.321229  6.299404e+06   2068.000000   \n\n                            geometry                        centroid  \n0     POINT (348119.398 6300309.088)  POINT (348119.398 6300309.088)  \n1     POINT (348047.903 6300010.850)  POINT (348047.903 6300010.850)  \n2     POINT (348029.356 6299854.887)  POINT (348029.356 6299854.887)  \n3     POINT (348220.277 6300394.845)  POINT (348220.277 6300394.845)  \n4     POINT (348204.615 6300176.390)  POINT (348204.615 6300176.390)  \n...                              ...                             ...  \n1813  POINT (352779.730 6299463.985)  POINT (352779.730 6299463.985)  \n1814  POINT (352826.470 6299484.957)  POINT (352826.470 6299484.957)  \n1815  POINT (352665.124 6299310.606)  POINT (352665.124 6299310.606)  \n1816  POINT (352694.479 6299249.971)  POINT (352694.479 6299249.971)  \n1817  POINT (352699.321 6299404.438)  POINT (352699.321 6299404.438)  \n\n[1818 rows x 17 columns]",
      "text/html": "<div>\n<style scoped>\n    .dataframe tbody tr th:only-of-type {\n        vertical-align: middle;\n    }\n\n    .dataframe tbody tr th {\n        vertical-align: top;\n    }\n\n    .dataframe thead th {\n        text-align: right;\n    }\n</style>\n<table border=\"1\" class=\"dataframe\">\n  <thead>\n    <tr style=\"text-align: right;\">\n      <th></th>\n      <th>cell</th>\n      <th>area</th>\n      <th>COMUNA</th>\n      <th>MANZ_SII</th>\n      <th>NOM_COMUNA</th>\n      <th>CMN_MZ</th>\n      <th>AREA_1</th>\n      <th>layer</th>\n      <th>path</th>\n      <th>m2_manz</th>\n      <th>Estacion</th>\n      <th>acc_metro</th>\n      <th>lat</th>\n      <th>lon</th>\n      <th>aux</th>\n      <th>geometry</th>\n      <th>centroid</th>\n    </tr>\n  </thead>\n  <tbody>\n    <tr>\n      <th>0</th>\n      <td>8</td>\n      <td>58456.714755</td>\n      <td>15103</td>\n      <td>888</td>\n      <td>PROVIDENCIA</td>\n      <td>15103-888</td>\n      <td>208524.86926</td>\n      <td>Manzanas_Santiago</td>\n      <td>D:/TESIS PHD ING TRANSPORTES/Investigación 1/I...</td>\n      <td>12404.0</td>\n      <td>SALVADOR</td>\n      <td>9.109931e+06</td>\n      <td>348119.398092</td>\n      <td>6.300309e+06</td>\n      <td>450.028908</td>\n      <td>POINT (348119.398 6300309.088)</td>\n      <td>POINT (348119.398 6300309.088)</td>\n    </tr>\n    <tr>\n      <th>1</th>\n      <td>9</td>\n      <td>58456.714755</td>\n      <td>15103</td>\n      <td>888</td>\n      <td>PROVIDENCIA</td>\n      <td>15103-888</td>\n      <td>208524.86926</td>\n      <td>Manzanas_Santiago</td>\n      <td>D:/TESIS PHD ING TRANSPORTES/Investigación 1/I...</td>\n      <td>12404.0</td>\n      <td>BAQUEDANO</td>\n      <td>9.325714e+06</td>\n      <td>348047.903091</td>\n      <td>6.300011e+06</td>\n      <td>441.427177</td>\n      <td>POINT (348047.903 6300010.850)</td>\n      <td>POINT (348047.903 6300010.850)</td>\n    </tr>\n    <tr>\n      <th>2</th>\n      <td>10</td>\n      <td>58456.714755</td>\n      <td>15103</td>\n      <td>888</td>\n      <td>PROVIDENCIA</td>\n      <td>15103-888</td>\n      <td>208524.86926</td>\n      <td>Manzanas_Santiago</td>\n      <td>D:/TESIS PHD ING TRANSPORTES/Investigación 1/I...</td>\n      <td>12404.0</td>\n      <td>BAQUEDANO</td>\n      <td>9.453876e+06</td>\n      <td>348029.355562</td>\n      <td>6.299855e+06</td>\n      <td>440.410850</td>\n      <td>POINT (348029.356 6299854.887)</td>\n      <td>POINT (348029.356 6299854.887)</td>\n    </tr>\n    <tr>\n      <th>3</th>\n      <td>27</td>\n      <td>58456.714755</td>\n      <td>15103</td>\n      <td>888</td>\n      <td>PROVIDENCIA</td>\n      <td>15103-888</td>\n      <td>208524.86926</td>\n      <td>Manzanas_Santiago</td>\n      <td>D:/TESIS PHD ING TRANSPORTES/Investigación 1/I...</td>\n      <td>12404.0</td>\n      <td>SALVADOR</td>\n      <td>9.413509e+06</td>\n      <td>348220.276647</td>\n      <td>6.300395e+06</td>\n      <td>477.875456</td>\n      <td>POINT (348220.277 6300394.845)</td>\n      <td>POINT (348220.277 6300394.845)</td>\n    </tr>\n    <tr>\n      <th>4</th>\n      <td>28</td>\n      <td>58456.714755</td>\n      <td>15103</td>\n      <td>888</td>\n      <td>PROVIDENCIA</td>\n      <td>15103-888</td>\n      <td>208524.86926</td>\n      <td>Manzanas_Santiago</td>\n      <td>D:/TESIS PHD ING TRANSPORTES/Investigación 1/I...</td>\n      <td>12404.0</td>\n      <td>SALVADOR</td>\n      <td>9.849931e+06</td>\n      <td>348204.614800</td>\n      <td>6.300176e+06</td>\n      <td>486.249468</td>\n      <td>POINT (348204.615 6300176.390)</td>\n      <td>POINT (348204.615 6300176.390)</td>\n    </tr>\n    <tr>\n      <th>...</th>\n      <td>...</td>\n      <td>...</td>\n      <td>...</td>\n      <td>...</td>\n      <td>...</td>\n      <td>...</td>\n      <td>...</td>\n      <td>...</td>\n      <td>...</td>\n      <td>...</td>\n      <td>...</td>\n      <td>...</td>\n      <td>...</td>\n      <td>...</td>\n      <td>...</td>\n      <td>...</td>\n      <td>...</td>\n    </tr>\n    <tr>\n      <th>1813</th>\n      <td>411</td>\n      <td>58456.714755</td>\n      <td>15103</td>\n      <td>13048</td>\n      <td>PROVIDENCIA</td>\n      <td>15103-13048</td>\n      <td>12164.47900</td>\n      <td>Manzanas_Santiago</td>\n      <td>D:/TESIS PHD ING TRANSPORTES/Investigación 1/I...</td>\n      <td>32240.0</td>\n      <td>BILBAO</td>\n      <td>7.944656e+06</td>\n      <td>352779.730361</td>\n      <td>6.299464e+06</td>\n      <td>32240.000000</td>\n      <td>POINT (352779.730 6299463.985)</td>\n      <td>POINT (352779.730 6299463.985)</td>\n    </tr>\n    <tr>\n      <th>1814</th>\n      <td>429</td>\n      <td>58456.714755</td>\n      <td>15103</td>\n      <td>13048</td>\n      <td>PROVIDENCIA</td>\n      <td>15103-13048</td>\n      <td>12164.47900</td>\n      <td>Manzanas_Santiago</td>\n      <td>D:/TESIS PHD ING TRANSPORTES/Investigación 1/I...</td>\n      <td>32240.0</td>\n      <td>BILBAO</td>\n      <td>6.874520e+06</td>\n      <td>352826.470164</td>\n      <td>6.299485e+06</td>\n      <td>27357.387135</td>\n      <td>POINT (352826.470 6299484.957)</td>\n      <td>POINT (352826.470 6299484.957)</td>\n    </tr>\n    <tr>\n      <th>1815</th>\n      <td>411</td>\n      <td>58456.714755</td>\n      <td>15103</td>\n      <td>12748</td>\n      <td>PROVIDENCIA</td>\n      <td>15103-12748</td>\n      <td>11801.09546</td>\n      <td>Manzanas_Santiago</td>\n      <td>D:/TESIS PHD ING TRANSPORTES/Investigación 1/I...</td>\n      <td>5803.0</td>\n      <td>BILBAO</td>\n      <td>7.944656e+06</td>\n      <td>352665.124402</td>\n      <td>6.299311e+06</td>\n      <td>5803.000000</td>\n      <td>POINT (352665.124 6299310.606)</td>\n      <td>POINT (352665.124 6299310.606)</td>\n    </tr>\n    <tr>\n      <th>1816</th>\n      <td>412</td>\n      <td>58456.714755</td>\n      <td>15103</td>\n      <td>12748</td>\n      <td>PROVIDENCIA</td>\n      <td>15103-12748</td>\n      <td>11801.09546</td>\n      <td>Manzanas_Santiago</td>\n      <td>D:/TESIS PHD ING TRANSPORTES/Investigación 1/I...</td>\n      <td>5803.0</td>\n      <td>BILBAO</td>\n      <td>7.535454e+06</td>\n      <td>352694.478699</td>\n      <td>6.299250e+06</td>\n      <td>4399.310808</td>\n      <td>POINT (352694.479 6299249.971)</td>\n      <td>POINT (352694.479 6299249.971)</td>\n    </tr>\n    <tr>\n      <th>1817</th>\n      <td>411</td>\n      <td>58456.714755</td>\n      <td>15103</td>\n      <td>12847</td>\n      <td>PROVIDENCIA</td>\n      <td>15103-12847</td>\n      <td>6779.43286</td>\n      <td>Manzanas_Santiago</td>\n      <td>D:/TESIS PHD ING TRANSPORTES/Investigación 1/I...</td>\n      <td>2068.0</td>\n      <td>BILBAO</td>\n      <td>7.944656e+06</td>\n      <td>352699.321229</td>\n      <td>6.299404e+06</td>\n      <td>2068.000000</td>\n      <td>POINT (352699.321 6299404.438)</td>\n      <td>POINT (352699.321 6299404.438)</td>\n    </tr>\n  </tbody>\n</table>\n<p>1818 rows × 17 columns</p>\n</div>"
     },
     "metadata": {},
     "output_type": "display_data"
    }
   ],
   "source": [
    "celdas_rm.rename(columns={'HubDist': 'acc_metro'}, inplace=True)\n",
    "celdas_rm.rename(columns={'HubName': 'Estacion'}, inplace=True)\n",
    "celdas_rm.rename(columns={'xProvidenc': 'm2_manz'}, inplace=True)\n",
    "display(celdas_rm)"
   ]
  },
  {
   "cell_type": "code",
   "execution_count": 41,
   "metadata": {
    "ExecuteTime": {
     "end_time": "2023-11-19T04:25:17.366575Z",
     "start_time": "2023-11-19T04:25:17.318686Z"
    }
   },
   "outputs": [],
   "source": [
    "celdas_rm[\"lat\"] = celdas_rm.centroid.x\n",
    "celdas_rm[\"lon\"] = celdas_rm.centroid.y"
   ]
  },
  {
   "cell_type": "code",
   "execution_count": 42,
   "metadata": {
    "scrolled": false,
    "ExecuteTime": {
     "end_time": "2023-11-19T04:25:17.412571Z",
     "start_time": "2023-11-19T04:25:17.331438Z"
    }
   },
   "outputs": [
    {
     "data": {
      "text/plain": "      cell          area COMUNA MANZ_SII   NOM_COMUNA       CMN_MZ  \\\n0        8  58456.714755  15103      888  PROVIDENCIA    15103-888   \n1        9  58456.714755  15103      888  PROVIDENCIA    15103-888   \n2       10  58456.714755  15103      888  PROVIDENCIA    15103-888   \n3       27  58456.714755  15103      888  PROVIDENCIA    15103-888   \n4       28  58456.714755  15103      888  PROVIDENCIA    15103-888   \n...    ...           ...    ...      ...          ...          ...   \n1813   411  58456.714755  15103    13048  PROVIDENCIA  15103-13048   \n1814   429  58456.714755  15103    13048  PROVIDENCIA  15103-13048   \n1815   411  58456.714755  15103    12748  PROVIDENCIA  15103-12748   \n1816   412  58456.714755  15103    12748  PROVIDENCIA  15103-12748   \n1817   411  58456.714755  15103    12847  PROVIDENCIA  15103-12847   \n\n            AREA_1              layer  \\\n0     208524.86926  Manzanas_Santiago   \n1     208524.86926  Manzanas_Santiago   \n2     208524.86926  Manzanas_Santiago   \n3     208524.86926  Manzanas_Santiago   \n4     208524.86926  Manzanas_Santiago   \n...            ...                ...   \n1813   12164.47900  Manzanas_Santiago   \n1814   12164.47900  Manzanas_Santiago   \n1815   11801.09546  Manzanas_Santiago   \n1816   11801.09546  Manzanas_Santiago   \n1817    6779.43286  Manzanas_Santiago   \n\n                                                   path  m2_manz   Estacion  \\\n0     D:/TESIS PHD ING TRANSPORTES/Investigación 1/I...  12404.0   SALVADOR   \n1     D:/TESIS PHD ING TRANSPORTES/Investigación 1/I...  12404.0  BAQUEDANO   \n2     D:/TESIS PHD ING TRANSPORTES/Investigación 1/I...  12404.0  BAQUEDANO   \n3     D:/TESIS PHD ING TRANSPORTES/Investigación 1/I...  12404.0   SALVADOR   \n4     D:/TESIS PHD ING TRANSPORTES/Investigación 1/I...  12404.0   SALVADOR   \n...                                                 ...      ...        ...   \n1813  D:/TESIS PHD ING TRANSPORTES/Investigación 1/I...  32240.0     BILBAO   \n1814  D:/TESIS PHD ING TRANSPORTES/Investigación 1/I...  32240.0     BILBAO   \n1815  D:/TESIS PHD ING TRANSPORTES/Investigación 1/I...   5803.0     BILBAO   \n1816  D:/TESIS PHD ING TRANSPORTES/Investigación 1/I...   5803.0     BILBAO   \n1817  D:/TESIS PHD ING TRANSPORTES/Investigación 1/I...   2068.0     BILBAO   \n\n         acc_metro            lat           lon           aux  \\\n0     9.109931e+06  348119.398092  6.300309e+06    450.028908   \n1     9.325714e+06  348047.903091  6.300011e+06    441.427177   \n2     9.453876e+06  348029.355562  6.299855e+06    440.410850   \n3     9.413509e+06  348220.276647  6.300395e+06    477.875456   \n4     9.849931e+06  348204.614800  6.300176e+06    486.249468   \n...            ...            ...           ...           ...   \n1813  7.944656e+06  352779.730361  6.299464e+06  32240.000000   \n1814  6.874520e+06  352826.470164  6.299485e+06  27357.387135   \n1815  7.944656e+06  352665.124402  6.299311e+06   5803.000000   \n1816  7.535454e+06  352694.478699  6.299250e+06   4399.310808   \n1817  7.944656e+06  352699.321229  6.299404e+06   2068.000000   \n\n                            geometry                        centroid  \n0     POINT (348119.398 6300309.088)  POINT (348119.398 6300309.088)  \n1     POINT (348047.903 6300010.850)  POINT (348047.903 6300010.850)  \n2     POINT (348029.356 6299854.887)  POINT (348029.356 6299854.887)  \n3     POINT (348220.277 6300394.845)  POINT (348220.277 6300394.845)  \n4     POINT (348204.615 6300176.390)  POINT (348204.615 6300176.390)  \n...                              ...                             ...  \n1813  POINT (352779.730 6299463.985)  POINT (352779.730 6299463.985)  \n1814  POINT (352826.470 6299484.957)  POINT (352826.470 6299484.957)  \n1815  POINT (352665.124 6299310.606)  POINT (352665.124 6299310.606)  \n1816  POINT (352694.479 6299249.971)  POINT (352694.479 6299249.971)  \n1817  POINT (352699.321 6299404.438)  POINT (352699.321 6299404.438)  \n\n[1818 rows x 17 columns]",
      "text/html": "<div>\n<style scoped>\n    .dataframe tbody tr th:only-of-type {\n        vertical-align: middle;\n    }\n\n    .dataframe tbody tr th {\n        vertical-align: top;\n    }\n\n    .dataframe thead th {\n        text-align: right;\n    }\n</style>\n<table border=\"1\" class=\"dataframe\">\n  <thead>\n    <tr style=\"text-align: right;\">\n      <th></th>\n      <th>cell</th>\n      <th>area</th>\n      <th>COMUNA</th>\n      <th>MANZ_SII</th>\n      <th>NOM_COMUNA</th>\n      <th>CMN_MZ</th>\n      <th>AREA_1</th>\n      <th>layer</th>\n      <th>path</th>\n      <th>m2_manz</th>\n      <th>Estacion</th>\n      <th>acc_metro</th>\n      <th>lat</th>\n      <th>lon</th>\n      <th>aux</th>\n      <th>geometry</th>\n      <th>centroid</th>\n    </tr>\n  </thead>\n  <tbody>\n    <tr>\n      <th>0</th>\n      <td>8</td>\n      <td>58456.714755</td>\n      <td>15103</td>\n      <td>888</td>\n      <td>PROVIDENCIA</td>\n      <td>15103-888</td>\n      <td>208524.86926</td>\n      <td>Manzanas_Santiago</td>\n      <td>D:/TESIS PHD ING TRANSPORTES/Investigación 1/I...</td>\n      <td>12404.0</td>\n      <td>SALVADOR</td>\n      <td>9.109931e+06</td>\n      <td>348119.398092</td>\n      <td>6.300309e+06</td>\n      <td>450.028908</td>\n      <td>POINT (348119.398 6300309.088)</td>\n      <td>POINT (348119.398 6300309.088)</td>\n    </tr>\n    <tr>\n      <th>1</th>\n      <td>9</td>\n      <td>58456.714755</td>\n      <td>15103</td>\n      <td>888</td>\n      <td>PROVIDENCIA</td>\n      <td>15103-888</td>\n      <td>208524.86926</td>\n      <td>Manzanas_Santiago</td>\n      <td>D:/TESIS PHD ING TRANSPORTES/Investigación 1/I...</td>\n      <td>12404.0</td>\n      <td>BAQUEDANO</td>\n      <td>9.325714e+06</td>\n      <td>348047.903091</td>\n      <td>6.300011e+06</td>\n      <td>441.427177</td>\n      <td>POINT (348047.903 6300010.850)</td>\n      <td>POINT (348047.903 6300010.850)</td>\n    </tr>\n    <tr>\n      <th>2</th>\n      <td>10</td>\n      <td>58456.714755</td>\n      <td>15103</td>\n      <td>888</td>\n      <td>PROVIDENCIA</td>\n      <td>15103-888</td>\n      <td>208524.86926</td>\n      <td>Manzanas_Santiago</td>\n      <td>D:/TESIS PHD ING TRANSPORTES/Investigación 1/I...</td>\n      <td>12404.0</td>\n      <td>BAQUEDANO</td>\n      <td>9.453876e+06</td>\n      <td>348029.355562</td>\n      <td>6.299855e+06</td>\n      <td>440.410850</td>\n      <td>POINT (348029.356 6299854.887)</td>\n      <td>POINT (348029.356 6299854.887)</td>\n    </tr>\n    <tr>\n      <th>3</th>\n      <td>27</td>\n      <td>58456.714755</td>\n      <td>15103</td>\n      <td>888</td>\n      <td>PROVIDENCIA</td>\n      <td>15103-888</td>\n      <td>208524.86926</td>\n      <td>Manzanas_Santiago</td>\n      <td>D:/TESIS PHD ING TRANSPORTES/Investigación 1/I...</td>\n      <td>12404.0</td>\n      <td>SALVADOR</td>\n      <td>9.413509e+06</td>\n      <td>348220.276647</td>\n      <td>6.300395e+06</td>\n      <td>477.875456</td>\n      <td>POINT (348220.277 6300394.845)</td>\n      <td>POINT (348220.277 6300394.845)</td>\n    </tr>\n    <tr>\n      <th>4</th>\n      <td>28</td>\n      <td>58456.714755</td>\n      <td>15103</td>\n      <td>888</td>\n      <td>PROVIDENCIA</td>\n      <td>15103-888</td>\n      <td>208524.86926</td>\n      <td>Manzanas_Santiago</td>\n      <td>D:/TESIS PHD ING TRANSPORTES/Investigación 1/I...</td>\n      <td>12404.0</td>\n      <td>SALVADOR</td>\n      <td>9.849931e+06</td>\n      <td>348204.614800</td>\n      <td>6.300176e+06</td>\n      <td>486.249468</td>\n      <td>POINT (348204.615 6300176.390)</td>\n      <td>POINT (348204.615 6300176.390)</td>\n    </tr>\n    <tr>\n      <th>...</th>\n      <td>...</td>\n      <td>...</td>\n      <td>...</td>\n      <td>...</td>\n      <td>...</td>\n      <td>...</td>\n      <td>...</td>\n      <td>...</td>\n      <td>...</td>\n      <td>...</td>\n      <td>...</td>\n      <td>...</td>\n      <td>...</td>\n      <td>...</td>\n      <td>...</td>\n      <td>...</td>\n      <td>...</td>\n    </tr>\n    <tr>\n      <th>1813</th>\n      <td>411</td>\n      <td>58456.714755</td>\n      <td>15103</td>\n      <td>13048</td>\n      <td>PROVIDENCIA</td>\n      <td>15103-13048</td>\n      <td>12164.47900</td>\n      <td>Manzanas_Santiago</td>\n      <td>D:/TESIS PHD ING TRANSPORTES/Investigación 1/I...</td>\n      <td>32240.0</td>\n      <td>BILBAO</td>\n      <td>7.944656e+06</td>\n      <td>352779.730361</td>\n      <td>6.299464e+06</td>\n      <td>32240.000000</td>\n      <td>POINT (352779.730 6299463.985)</td>\n      <td>POINT (352779.730 6299463.985)</td>\n    </tr>\n    <tr>\n      <th>1814</th>\n      <td>429</td>\n      <td>58456.714755</td>\n      <td>15103</td>\n      <td>13048</td>\n      <td>PROVIDENCIA</td>\n      <td>15103-13048</td>\n      <td>12164.47900</td>\n      <td>Manzanas_Santiago</td>\n      <td>D:/TESIS PHD ING TRANSPORTES/Investigación 1/I...</td>\n      <td>32240.0</td>\n      <td>BILBAO</td>\n      <td>6.874520e+06</td>\n      <td>352826.470164</td>\n      <td>6.299485e+06</td>\n      <td>27357.387135</td>\n      <td>POINT (352826.470 6299484.957)</td>\n      <td>POINT (352826.470 6299484.957)</td>\n    </tr>\n    <tr>\n      <th>1815</th>\n      <td>411</td>\n      <td>58456.714755</td>\n      <td>15103</td>\n      <td>12748</td>\n      <td>PROVIDENCIA</td>\n      <td>15103-12748</td>\n      <td>11801.09546</td>\n      <td>Manzanas_Santiago</td>\n      <td>D:/TESIS PHD ING TRANSPORTES/Investigación 1/I...</td>\n      <td>5803.0</td>\n      <td>BILBAO</td>\n      <td>7.944656e+06</td>\n      <td>352665.124402</td>\n      <td>6.299311e+06</td>\n      <td>5803.000000</td>\n      <td>POINT (352665.124 6299310.606)</td>\n      <td>POINT (352665.124 6299310.606)</td>\n    </tr>\n    <tr>\n      <th>1816</th>\n      <td>412</td>\n      <td>58456.714755</td>\n      <td>15103</td>\n      <td>12748</td>\n      <td>PROVIDENCIA</td>\n      <td>15103-12748</td>\n      <td>11801.09546</td>\n      <td>Manzanas_Santiago</td>\n      <td>D:/TESIS PHD ING TRANSPORTES/Investigación 1/I...</td>\n      <td>5803.0</td>\n      <td>BILBAO</td>\n      <td>7.535454e+06</td>\n      <td>352694.478699</td>\n      <td>6.299250e+06</td>\n      <td>4399.310808</td>\n      <td>POINT (352694.479 6299249.971)</td>\n      <td>POINT (352694.479 6299249.971)</td>\n    </tr>\n    <tr>\n      <th>1817</th>\n      <td>411</td>\n      <td>58456.714755</td>\n      <td>15103</td>\n      <td>12847</td>\n      <td>PROVIDENCIA</td>\n      <td>15103-12847</td>\n      <td>6779.43286</td>\n      <td>Manzanas_Santiago</td>\n      <td>D:/TESIS PHD ING TRANSPORTES/Investigación 1/I...</td>\n      <td>2068.0</td>\n      <td>BILBAO</td>\n      <td>7.944656e+06</td>\n      <td>352699.321229</td>\n      <td>6.299404e+06</td>\n      <td>2068.000000</td>\n      <td>POINT (352699.321 6299404.438)</td>\n      <td>POINT (352699.321 6299404.438)</td>\n    </tr>\n  </tbody>\n</table>\n<p>1818 rows × 17 columns</p>\n</div>"
     },
     "metadata": {},
     "output_type": "display_data"
    }
   ],
   "source": [
    "display(celdas_rm)"
   ]
  },
  {
   "cell_type": "code",
   "execution_count": 43,
   "metadata": {
    "scrolled": false,
    "ExecuteTime": {
     "end_time": "2023-11-19T04:25:17.434970Z",
     "start_time": "2023-11-19T04:25:17.348959Z"
    }
   },
   "outputs": [
    {
     "data": {
      "text/plain": "Index(['cell', 'area', 'COMUNA', 'MANZ_SII', 'NOM_COMUNA', 'CMN_MZ', 'AREA_1',\n       'layer', 'path', 'm2_manz', 'Estacion', 'acc_metro', 'lat', 'lon',\n       'aux', 'geometry', 'centroid'],\n      dtype='object')"
     },
     "execution_count": 43,
     "metadata": {},
     "output_type": "execute_result"
    }
   ],
   "source": [
    "celdas_rm.columns"
   ]
  },
  {
   "cell_type": "code",
   "execution_count": 44,
   "metadata": {
    "scrolled": false,
    "ExecuteTime": {
     "end_time": "2023-11-19T04:25:17.575190Z",
     "start_time": "2023-11-19T04:25:17.367179Z"
    }
   },
   "outputs": [
    {
     "data": {
      "text/plain": "<Figure size 640x480 with 1 Axes>",
      "image/png": "[encoded data removed]"
     },
     "metadata": {},
     "output_type": "display_data"
    }
   ],
   "source": [
    "# Definir nuestras funciones de accesibilidad (caminata y vehiculos)\n",
    "\n",
    "## Vehiculos (Exp Negativa)\n",
    "power = -0.00072779540527115486884128506462084  #ln0,5/952,39290539585 #ln0,5/46,52\n",
    "f_acc_veh = lambda d: e(1)**(power*d)\n",
    "\n",
    "def plot(f, start = 1, end = 10000, n = 200): #minutos\n",
    "    xs = np.linspace(start, end, n)\n",
    "    fig = plt.figure()\n",
    "    plt.plot(xs, [f(x) for x in xs], 'r')\n",
    "    plt.show()\n",
    "\n",
    "## Bicicletas (Exp Negativa)\n",
    "#power = -0.09902102579427790134531887449403 #ln0,25/14\n",
    "#f_acc_bici = lambda d: e(1)**(power*d)\n",
    "\n",
    "plot(f_acc_veh)\n",
    "#plot(f_acc_bici)"
   ]
  },
  {
   "cell_type": "code",
   "execution_count": 45,
   "metadata": {
    "ExecuteTime": {
     "end_time": "2023-11-19T04:25:17.575514Z",
     "start_time": "2023-11-19T04:25:17.479017Z"
    }
   },
   "outputs": [],
   "source": [
    "## Funciones de distancia y tiempo\n",
    "def distancia(celdas_rm, id_origen, id_destino):\n",
    "    ori = celdas_rm.loc[celdas_rm['cell'] == id_origen]['centroid'].iloc[0]\n",
    "    des = celdas_rm.loc[celdas_rm['cell'] == id_destino]['centroid'].iloc[0]\n",
    "    d = ori.distance(des)\n",
    "    return d\n",
    "\n",
    "def tiempo(celdas_rm, modo, id_origen, id_destino):\n",
    "    dist_m = distancia(celdas_rm, id_origen, id_destino)\n",
    "    if modo == 'veh':\n",
    "        v = 25 # km/h\n",
    "    elif modo == 'bici':\n",
    "        v = 14 #km/h\n",
    "    t = ((dist_m/1000)/v)*60\n",
    "    return t"
   ]
  },
  {
   "cell_type": "code",
   "execution_count": 46,
   "metadata": {
    "ExecuteTime": {
     "end_time": "2023-11-19T04:25:17.575710Z",
     "start_time": "2023-11-19T04:25:17.487629Z"
    }
   },
   "outputs": [],
   "source": [
    "def acc_metro(celdas_rm, modo, celda):\n",
    "    if modo == 'veh':\n",
    "        celdas_rm['aux'] = celdas_rm.apply(lambda row: row['m2_manz']*f_acc_veh(distancia(celdas_rm, celda, row['cell'])), axis = 1)\n",
    "    elif modo == 'bici':\n",
    "        celdas_rm['aux'] = celdas_rm.apply(lambda row: row['m2_manz']*f_acc_bici(distancia(celdas_rm, celda, row['cell'])), axis = 1)\n",
    "    acc_total = celdas_rm['aux'].sum()\n",
    "    return acc_total"
   ]
  },
  {
   "cell_type": "code",
   "execution_count": 47,
   "metadata": {
    "ExecuteTime": {
     "end_time": "2023-11-19T06:54:41.585773Z",
     "start_time": "2023-11-19T04:25:17.497572Z"
    }
   },
   "outputs": [
    {
     "name": "stdout",
     "output_type": "stream",
     "text": [
      "CPU times: user 1h 3min 14s, sys: 28 s, total: 1h 3min 42s\n",
      "Wall time: 2h 29min 24s\n"
     ]
    }
   ],
   "source": [
    "%%time\n",
    "celdas_rm['acc_metro'] = celdas_rm.apply(lambda row: acc_metro(celdas_rm, 'veh', row['cell']), axis = 1)"
   ]
  },
  {
   "cell_type": "markdown",
   "source": [],
   "metadata": {
    "collapsed": false
   }
  },
  {
   "cell_type": "code",
   "execution_count": 51,
   "metadata": {
    "scrolled": false,
    "ExecuteTime": {
     "end_time": "2023-11-19T13:00:11.492178Z",
     "start_time": "2023-11-19T13:00:11.441937Z"
    }
   },
   "outputs": [
    {
     "data": {
      "text/plain": "      cell          area COMUNA MANZ_SII   NOM_COMUNA       CMN_MZ  \\\n0        8  58456.714755  15103      888  PROVIDENCIA    15103-888   \n1        9  58456.714755  15103      888  PROVIDENCIA    15103-888   \n2       10  58456.714755  15103      888  PROVIDENCIA    15103-888   \n3       27  58456.714755  15103      888  PROVIDENCIA    15103-888   \n4       28  58456.714755  15103      888  PROVIDENCIA    15103-888   \n...    ...           ...    ...      ...          ...          ...   \n1813   411  58456.714755  15103    13048  PROVIDENCIA  15103-13048   \n1814   429  58456.714755  15103    13048  PROVIDENCIA  15103-13048   \n1815   411  58456.714755  15103    12748  PROVIDENCIA  15103-12748   \n1816   412  58456.714755  15103    12748  PROVIDENCIA  15103-12748   \n1817   411  58456.714755  15103    12847  PROVIDENCIA  15103-12847   \n\n            AREA_1              layer  \\\n0     208524.86926  Manzanas_Santiago   \n1     208524.86926  Manzanas_Santiago   \n2     208524.86926  Manzanas_Santiago   \n3     208524.86926  Manzanas_Santiago   \n4     208524.86926  Manzanas_Santiago   \n...            ...                ...   \n1813   12164.47900  Manzanas_Santiago   \n1814   12164.47900  Manzanas_Santiago   \n1815   11801.09546  Manzanas_Santiago   \n1816   11801.09546  Manzanas_Santiago   \n1817    6779.43286  Manzanas_Santiago   \n\n                                                   path  m2_manz   Estacion  \\\n0     D:/TESIS PHD ING TRANSPORTES/Investigación 1/I...  12404.0   SALVADOR   \n1     D:/TESIS PHD ING TRANSPORTES/Investigación 1/I...  12404.0  BAQUEDANO   \n2     D:/TESIS PHD ING TRANSPORTES/Investigación 1/I...  12404.0  BAQUEDANO   \n3     D:/TESIS PHD ING TRANSPORTES/Investigación 1/I...  12404.0   SALVADOR   \n4     D:/TESIS PHD ING TRANSPORTES/Investigación 1/I...  12404.0   SALVADOR   \n...                                                 ...      ...        ...   \n1813  D:/TESIS PHD ING TRANSPORTES/Investigación 1/I...  32240.0     BILBAO   \n1814  D:/TESIS PHD ING TRANSPORTES/Investigación 1/I...  32240.0     BILBAO   \n1815  D:/TESIS PHD ING TRANSPORTES/Investigación 1/I...   5803.0     BILBAO   \n1816  D:/TESIS PHD ING TRANSPORTES/Investigación 1/I...   5803.0     BILBAO   \n1817  D:/TESIS PHD ING TRANSPORTES/Investigación 1/I...   2068.0     BILBAO   \n\n         acc_metro            lat           lon           aux  \\\n0     9.109931e+06  348119.398092  6.300309e+06    450.028908   \n1     9.325714e+06  348047.903091  6.300011e+06    441.427177   \n2     9.453876e+06  348029.355562  6.299855e+06    440.410850   \n3     9.413509e+06  348220.276647  6.300395e+06    477.875456   \n4     9.849931e+06  348204.614800  6.300176e+06    486.249468   \n...            ...            ...           ...           ...   \n1813  7.944656e+06  352779.730361  6.299464e+06  32240.000000   \n1814  6.874520e+06  352826.470164  6.299485e+06  27357.387135   \n1815  7.944656e+06  352665.124402  6.299311e+06   5803.000000   \n1816  7.535454e+06  352694.478699  6.299250e+06   4399.310808   \n1817  7.944656e+06  352699.321229  6.299404e+06   2068.000000   \n\n                            geometry  \n0     POINT (348119.398 6300309.088)  \n1     POINT (348047.903 6300010.850)  \n2     POINT (348029.356 6299854.887)  \n3     POINT (348220.277 6300394.845)  \n4     POINT (348204.615 6300176.390)  \n...                              ...  \n1813  POINT (352779.730 6299463.985)  \n1814  POINT (352826.470 6299484.957)  \n1815  POINT (352665.124 6299310.606)  \n1816  POINT (352694.479 6299249.971)  \n1817  POINT (352699.321 6299404.438)  \n\n[1818 rows x 16 columns]",
      "text/html": "<div>\n<style scoped>\n    .dataframe tbody tr th:only-of-type {\n        vertical-align: middle;\n    }\n\n    .dataframe tbody tr th {\n        vertical-align: top;\n    }\n\n    .dataframe thead th {\n        text-align: right;\n    }\n</style>\n<table border=\"1\" class=\"dataframe\">\n  <thead>\n    <tr style=\"text-align: right;\">\n      <th></th>\n      <th>cell</th>\n      <th>area</th>\n      <th>COMUNA</th>\n      <th>MANZ_SII</th>\n      <th>NOM_COMUNA</th>\n      <th>CMN_MZ</th>\n      <th>AREA_1</th>\n      <th>layer</th>\n      <th>path</th>\n      <th>m2_manz</th>\n      <th>Estacion</th>\n      <th>acc_metro</th>\n      <th>lat</th>\n      <th>lon</th>\n      <th>aux</th>\n      <th>geometry</th>\n    </tr>\n  </thead>\n  <tbody>\n    <tr>\n      <th>0</th>\n      <td>8</td>\n      <td>58456.714755</td>\n      <td>15103</td>\n      <td>888</td>\n      <td>PROVIDENCIA</td>\n      <td>15103-888</td>\n      <td>208524.86926</td>\n      <td>Manzanas_Santiago</td>\n      <td>D:/TESIS PHD ING TRANSPORTES/Investigación 1/I...</td>\n      <td>12404.0</td>\n      <td>SALVADOR</td>\n      <td>9.109931e+06</td>\n      <td>348119.398092</td>\n      <td>6.300309e+06</td>\n      <td>450.028908</td>\n      <td>POINT (348119.398 6300309.088)</td>\n    </tr>\n    <tr>\n      <th>1</th>\n      <td>9</td>\n      <td>58456.714755</td>\n      <td>15103</td>\n      <td>888</td>\n      <td>PROVIDENCIA</td>\n      <td>15103-888</td>\n      <td>208524.86926</td>\n      <td>Manzanas_Santiago</td>\n      <td>D:/TESIS PHD ING TRANSPORTES/Investigación 1/I...</td>\n      <td>12404.0</td>\n      <td>BAQUEDANO</td>\n      <td>9.325714e+06</td>\n      <td>348047.903091</td>\n      <td>6.300011e+06</td>\n      <td>441.427177</td>\n      <td>POINT (348047.903 6300010.850)</td>\n    </tr>\n    <tr>\n      <th>2</th>\n      <td>10</td>\n      <td>58456.714755</td>\n      <td>15103</td>\n      <td>888</td>\n      <td>PROVIDENCIA</td>\n      <td>15103-888</td>\n      <td>208524.86926</td>\n      <td>Manzanas_Santiago</td>\n      <td>D:/TESIS PHD ING TRANSPORTES/Investigación 1/I...</td>\n      <td>12404.0</td>\n      <td>BAQUEDANO</td>\n      <td>9.453876e+06</td>\n      <td>348029.355562</td>\n      <td>6.299855e+06</td>\n      <td>440.410850</td>\n      <td>POINT (348029.356 6299854.887)</td>\n    </tr>\n    <tr>\n      <th>3</th>\n      <td>27</td>\n      <td>58456.714755</td>\n      <td>15103</td>\n      <td>888</td>\n      <td>PROVIDENCIA</td>\n      <td>15103-888</td>\n      <td>208524.86926</td>\n      <td>Manzanas_Santiago</td>\n      <td>D:/TESIS PHD ING TRANSPORTES/Investigación 1/I...</td>\n      <td>12404.0</td>\n      <td>SALVADOR</td>\n      <td>9.413509e+06</td>\n      <td>348220.276647</td>\n      <td>6.300395e+06</td>\n      <td>477.875456</td>\n      <td>POINT (348220.277 6300394.845)</td>\n    </tr>\n    <tr>\n      <th>4</th>\n      <td>28</td>\n      <td>58456.714755</td>\n      <td>15103</td>\n      <td>888</td>\n      <td>PROVIDENCIA</td>\n      <td>15103-888</td>\n      <td>208524.86926</td>\n      <td>Manzanas_Santiago</td>\n      <td>D:/TESIS PHD ING TRANSPORTES/Investigación 1/I...</td>\n      <td>12404.0</td>\n      <td>SALVADOR</td>\n      <td>9.849931e+06</td>\n      <td>348204.614800</td>\n      <td>6.300176e+06</td>\n      <td>486.249468</td>\n      <td>POINT (348204.615 6300176.390)</td>\n    </tr>\n    <tr>\n      <th>...</th>\n      <td>...</td>\n      <td>...</td>\n      <td>...</td>\n      <td>...</td>\n      <td>...</td>\n      <td>...</td>\n      <td>...</td>\n      <td>...</td>\n      <td>...</td>\n      <td>...</td>\n      <td>...</td>\n      <td>...</td>\n      <td>...</td>\n      <td>...</td>\n      <td>...</td>\n      <td>...</td>\n    </tr>\n    <tr>\n      <th>1813</th>\n      <td>411</td>\n      <td>58456.714755</td>\n      <td>15103</td>\n      <td>13048</td>\n      <td>PROVIDENCIA</td>\n      <td>15103-13048</td>\n      <td>12164.47900</td>\n      <td>Manzanas_Santiago</td>\n      <td>D:/TESIS PHD ING TRANSPORTES/Investigación 1/I...</td>\n      <td>32240.0</td>\n      <td>BILBAO</td>\n      <td>7.944656e+06</td>\n      <td>352779.730361</td>\n      <td>6.299464e+06</td>\n      <td>32240.000000</td>\n      <td>POINT (352779.730 6299463.985)</td>\n    </tr>\n    <tr>\n      <th>1814</th>\n      <td>429</td>\n      <td>58456.714755</td>\n      <td>15103</td>\n      <td>13048</td>\n      <td>PROVIDENCIA</td>\n      <td>15103-13048</td>\n      <td>12164.47900</td>\n      <td>Manzanas_Santiago</td>\n      <td>D:/TESIS PHD ING TRANSPORTES/Investigación 1/I...</td>\n      <td>32240.0</td>\n      <td>BILBAO</td>\n      <td>6.874520e+06</td>\n      <td>352826.470164</td>\n      <td>6.299485e+06</td>\n      <td>27357.387135</td>\n      <td>POINT (352826.470 6299484.957)</td>\n    </tr>\n    <tr>\n      <th>1815</th>\n      <td>411</td>\n      <td>58456.714755</td>\n      <td>15103</td>\n      <td>12748</td>\n      <td>PROVIDENCIA</td>\n      <td>15103-12748</td>\n      <td>11801.09546</td>\n      <td>Manzanas_Santiago</td>\n      <td>D:/TESIS PHD ING TRANSPORTES/Investigación 1/I...</td>\n      <td>5803.0</td>\n      <td>BILBAO</td>\n      <td>7.944656e+06</td>\n      <td>352665.124402</td>\n      <td>6.299311e+06</td>\n      <td>5803.000000</td>\n      <td>POINT (352665.124 6299310.606)</td>\n    </tr>\n    <tr>\n      <th>1816</th>\n      <td>412</td>\n      <td>58456.714755</td>\n      <td>15103</td>\n      <td>12748</td>\n      <td>PROVIDENCIA</td>\n      <td>15103-12748</td>\n      <td>11801.09546</td>\n      <td>Manzanas_Santiago</td>\n      <td>D:/TESIS PHD ING TRANSPORTES/Investigación 1/I...</td>\n      <td>5803.0</td>\n      <td>BILBAO</td>\n      <td>7.535454e+06</td>\n      <td>352694.478699</td>\n      <td>6.299250e+06</td>\n      <td>4399.310808</td>\n      <td>POINT (352694.479 6299249.971)</td>\n    </tr>\n    <tr>\n      <th>1817</th>\n      <td>411</td>\n      <td>58456.714755</td>\n      <td>15103</td>\n      <td>12847</td>\n      <td>PROVIDENCIA</td>\n      <td>15103-12847</td>\n      <td>6779.43286</td>\n      <td>Manzanas_Santiago</td>\n      <td>D:/TESIS PHD ING TRANSPORTES/Investigación 1/I...</td>\n      <td>2068.0</td>\n      <td>BILBAO</td>\n      <td>7.944656e+06</td>\n      <td>352699.321229</td>\n      <td>6.299404e+06</td>\n      <td>2068.000000</td>\n      <td>POINT (352699.321 6299404.438)</td>\n    </tr>\n  </tbody>\n</table>\n<p>1818 rows × 16 columns</p>\n</div>"
     },
     "metadata": {},
     "output_type": "display_data"
    }
   ],
   "source": [
    "display(celdas_rm)"
   ]
  },
  {
   "cell_type": "code",
   "execution_count": 52,
   "metadata": {
    "ExecuteTime": {
     "end_time": "2023-11-19T13:00:16.283662Z",
     "start_time": "2023-11-19T13:00:16.150767Z"
    }
   },
   "outputs": [
    {
     "ename": "KeyError",
     "evalue": "\"['centroid'] not found in axis\"",
     "output_type": "error",
     "traceback": [
      "\u001B[0;31m---------------------------------------------------------------------------\u001B[0m",
      "\u001B[0;31mKeyError\u001B[0m                                  Traceback (most recent call last)",
      "Cell \u001B[0;32mIn[52], line 1\u001B[0m\n\u001B[0;32m----> 1\u001B[0m celdas_rm \u001B[38;5;241m=\u001B[39m \u001B[43mceldas_rm\u001B[49m\u001B[38;5;241;43m.\u001B[39;49m\u001B[43mdrop\u001B[49m\u001B[43m(\u001B[49m\u001B[43m[\u001B[49m\u001B[38;5;124;43m\"\u001B[39;49m\u001B[38;5;124;43mcentroid\u001B[39;49m\u001B[38;5;124;43m\"\u001B[39;49m\u001B[43m]\u001B[49m\u001B[43m,\u001B[49m\u001B[43m \u001B[49m\u001B[43maxis\u001B[49m\u001B[43m \u001B[49m\u001B[38;5;241;43m=\u001B[39;49m\u001B[43m \u001B[49m\u001B[38;5;241;43m1\u001B[39;49m\u001B[43m)\u001B[49m\n",
      "File \u001B[0;32m~/PycharmProjects/labmodelsimu/venv/lib/python3.10/site-packages/pandas/core/frame.py:5344\u001B[0m, in \u001B[0;36mDataFrame.drop\u001B[0;34m(self, labels, axis, index, columns, level, inplace, errors)\u001B[0m\n\u001B[1;32m   5196\u001B[0m \u001B[38;5;28;01mdef\u001B[39;00m \u001B[38;5;21mdrop\u001B[39m(\n\u001B[1;32m   5197\u001B[0m     \u001B[38;5;28mself\u001B[39m,\n\u001B[1;32m   5198\u001B[0m     labels: IndexLabel \u001B[38;5;241m|\u001B[39m \u001B[38;5;28;01mNone\u001B[39;00m \u001B[38;5;241m=\u001B[39m \u001B[38;5;28;01mNone\u001B[39;00m,\n\u001B[0;32m   (...)\u001B[0m\n\u001B[1;32m   5205\u001B[0m     errors: IgnoreRaise \u001B[38;5;241m=\u001B[39m \u001B[38;5;124m\"\u001B[39m\u001B[38;5;124mraise\u001B[39m\u001B[38;5;124m\"\u001B[39m,\n\u001B[1;32m   5206\u001B[0m ) \u001B[38;5;241m-\u001B[39m\u001B[38;5;241m>\u001B[39m DataFrame \u001B[38;5;241m|\u001B[39m \u001B[38;5;28;01mNone\u001B[39;00m:\n\u001B[1;32m   5207\u001B[0m \u001B[38;5;250m    \u001B[39m\u001B[38;5;124;03m\"\"\"\u001B[39;00m\n\u001B[1;32m   5208\u001B[0m \u001B[38;5;124;03m    Drop specified labels from rows or columns.\u001B[39;00m\n\u001B[1;32m   5209\u001B[0m \n\u001B[0;32m   (...)\u001B[0m\n\u001B[1;32m   5342\u001B[0m \u001B[38;5;124;03m            weight  1.0     0.8\u001B[39;00m\n\u001B[1;32m   5343\u001B[0m \u001B[38;5;124;03m    \"\"\"\u001B[39;00m\n\u001B[0;32m-> 5344\u001B[0m     \u001B[38;5;28;01mreturn\u001B[39;00m \u001B[38;5;28;43msuper\u001B[39;49m\u001B[43m(\u001B[49m\u001B[43m)\u001B[49m\u001B[38;5;241;43m.\u001B[39;49m\u001B[43mdrop\u001B[49m\u001B[43m(\u001B[49m\n\u001B[1;32m   5345\u001B[0m \u001B[43m        \u001B[49m\u001B[43mlabels\u001B[49m\u001B[38;5;241;43m=\u001B[39;49m\u001B[43mlabels\u001B[49m\u001B[43m,\u001B[49m\n\u001B[1;32m   5346\u001B[0m \u001B[43m        \u001B[49m\u001B[43maxis\u001B[49m\u001B[38;5;241;43m=\u001B[39;49m\u001B[43maxis\u001B[49m\u001B[43m,\u001B[49m\n\u001B[1;32m   5347\u001B[0m \u001B[43m        \u001B[49m\u001B[43mindex\u001B[49m\u001B[38;5;241;43m=\u001B[39;49m\u001B[43mindex\u001B[49m\u001B[43m,\u001B[49m\n\u001B[1;32m   5348\u001B[0m \u001B[43m        \u001B[49m\u001B[43mcolumns\u001B[49m\u001B[38;5;241;43m=\u001B[39;49m\u001B[43mcolumns\u001B[49m\u001B[43m,\u001B[49m\n\u001B[1;32m   5349\u001B[0m \u001B[43m        \u001B[49m\u001B[43mlevel\u001B[49m\u001B[38;5;241;43m=\u001B[39;49m\u001B[43mlevel\u001B[49m\u001B[43m,\u001B[49m\n\u001B[1;32m   5350\u001B[0m \u001B[43m        \u001B[49m\u001B[43minplace\u001B[49m\u001B[38;5;241;43m=\u001B[39;49m\u001B[43minplace\u001B[49m\u001B[43m,\u001B[49m\n\u001B[1;32m   5351\u001B[0m \u001B[43m        \u001B[49m\u001B[43merrors\u001B[49m\u001B[38;5;241;43m=\u001B[39;49m\u001B[43merrors\u001B[49m\u001B[43m,\u001B[49m\n\u001B[1;32m   5352\u001B[0m \u001B[43m    \u001B[49m\u001B[43m)\u001B[49m\n",
      "File \u001B[0;32m~/PycharmProjects/labmodelsimu/venv/lib/python3.10/site-packages/pandas/core/generic.py:4711\u001B[0m, in \u001B[0;36mNDFrame.drop\u001B[0;34m(self, labels, axis, index, columns, level, inplace, errors)\u001B[0m\n\u001B[1;32m   4709\u001B[0m \u001B[38;5;28;01mfor\u001B[39;00m axis, labels \u001B[38;5;129;01min\u001B[39;00m axes\u001B[38;5;241m.\u001B[39mitems():\n\u001B[1;32m   4710\u001B[0m     \u001B[38;5;28;01mif\u001B[39;00m labels \u001B[38;5;129;01mis\u001B[39;00m \u001B[38;5;129;01mnot\u001B[39;00m \u001B[38;5;28;01mNone\u001B[39;00m:\n\u001B[0;32m-> 4711\u001B[0m         obj \u001B[38;5;241m=\u001B[39m \u001B[43mobj\u001B[49m\u001B[38;5;241;43m.\u001B[39;49m\u001B[43m_drop_axis\u001B[49m\u001B[43m(\u001B[49m\u001B[43mlabels\u001B[49m\u001B[43m,\u001B[49m\u001B[43m \u001B[49m\u001B[43maxis\u001B[49m\u001B[43m,\u001B[49m\u001B[43m \u001B[49m\u001B[43mlevel\u001B[49m\u001B[38;5;241;43m=\u001B[39;49m\u001B[43mlevel\u001B[49m\u001B[43m,\u001B[49m\u001B[43m \u001B[49m\u001B[43merrors\u001B[49m\u001B[38;5;241;43m=\u001B[39;49m\u001B[43merrors\u001B[49m\u001B[43m)\u001B[49m\n\u001B[1;32m   4713\u001B[0m \u001B[38;5;28;01mif\u001B[39;00m inplace:\n\u001B[1;32m   4714\u001B[0m     \u001B[38;5;28mself\u001B[39m\u001B[38;5;241m.\u001B[39m_update_inplace(obj)\n",
      "File \u001B[0;32m~/PycharmProjects/labmodelsimu/venv/lib/python3.10/site-packages/pandas/core/generic.py:4753\u001B[0m, in \u001B[0;36mNDFrame._drop_axis\u001B[0;34m(self, labels, axis, level, errors, only_slice)\u001B[0m\n\u001B[1;32m   4751\u001B[0m         new_axis \u001B[38;5;241m=\u001B[39m axis\u001B[38;5;241m.\u001B[39mdrop(labels, level\u001B[38;5;241m=\u001B[39mlevel, errors\u001B[38;5;241m=\u001B[39merrors)\n\u001B[1;32m   4752\u001B[0m     \u001B[38;5;28;01melse\u001B[39;00m:\n\u001B[0;32m-> 4753\u001B[0m         new_axis \u001B[38;5;241m=\u001B[39m \u001B[43maxis\u001B[49m\u001B[38;5;241;43m.\u001B[39;49m\u001B[43mdrop\u001B[49m\u001B[43m(\u001B[49m\u001B[43mlabels\u001B[49m\u001B[43m,\u001B[49m\u001B[43m \u001B[49m\u001B[43merrors\u001B[49m\u001B[38;5;241;43m=\u001B[39;49m\u001B[43merrors\u001B[49m\u001B[43m)\u001B[49m\n\u001B[1;32m   4754\u001B[0m     indexer \u001B[38;5;241m=\u001B[39m axis\u001B[38;5;241m.\u001B[39mget_indexer(new_axis)\n\u001B[1;32m   4756\u001B[0m \u001B[38;5;66;03m# Case for non-unique axis\u001B[39;00m\n\u001B[1;32m   4757\u001B[0m \u001B[38;5;28;01melse\u001B[39;00m:\n",
      "File \u001B[0;32m~/PycharmProjects/labmodelsimu/venv/lib/python3.10/site-packages/pandas/core/indexes/base.py:6992\u001B[0m, in \u001B[0;36mIndex.drop\u001B[0;34m(self, labels, errors)\u001B[0m\n\u001B[1;32m   6990\u001B[0m \u001B[38;5;28;01mif\u001B[39;00m mask\u001B[38;5;241m.\u001B[39many():\n\u001B[1;32m   6991\u001B[0m     \u001B[38;5;28;01mif\u001B[39;00m errors \u001B[38;5;241m!=\u001B[39m \u001B[38;5;124m\"\u001B[39m\u001B[38;5;124mignore\u001B[39m\u001B[38;5;124m\"\u001B[39m:\n\u001B[0;32m-> 6992\u001B[0m         \u001B[38;5;28;01mraise\u001B[39;00m \u001B[38;5;167;01mKeyError\u001B[39;00m(\u001B[38;5;124mf\u001B[39m\u001B[38;5;124m\"\u001B[39m\u001B[38;5;132;01m{\u001B[39;00mlabels[mask]\u001B[38;5;241m.\u001B[39mtolist()\u001B[38;5;132;01m}\u001B[39;00m\u001B[38;5;124m not found in axis\u001B[39m\u001B[38;5;124m\"\u001B[39m)\n\u001B[1;32m   6993\u001B[0m     indexer \u001B[38;5;241m=\u001B[39m indexer[\u001B[38;5;241m~\u001B[39mmask]\n\u001B[1;32m   6994\u001B[0m \u001B[38;5;28;01mreturn\u001B[39;00m \u001B[38;5;28mself\u001B[39m\u001B[38;5;241m.\u001B[39mdelete(indexer)\n",
      "\u001B[0;31mKeyError\u001B[0m: \"['centroid'] not found in axis\""
     ]
    }
   ],
   "source": [
    "celdas_rm = celdas_rm.drop([\"centroid\"], axis = 1)"
   ]
  },
  {
   "cell_type": "code",
   "execution_count": 53,
   "metadata": {
    "ExecuteTime": {
     "end_time": "2023-11-19T13:00:25.186491Z",
     "start_time": "2023-11-19T13:00:24.958242Z"
    }
   },
   "outputs": [],
   "source": [
    "celdas_rm.to_file(\"acc_metronew.shp\")"
   ]
  },
  {
   "cell_type": "code",
   "execution_count": 50,
   "metadata": {
    "ExecuteTime": {
     "end_time": "2023-11-19T06:54:41.972564Z",
     "start_time": "2023-11-19T06:54:41.802829Z"
    }
   },
   "outputs": [],
   "source": []
  }
 ],
 "metadata": {
  "kernelspec": {
   "display_name": "Python 3 (ipykernel)",
   "language": "python",
   "name": "python3"
  },
  "language_info": {
   "codemirror_mode": {
    "name": "ipython",
    "version": 3
   },
   "file_extension": ".py",
   "mimetype": "text/x-python",
   "name": "python",
   "nbconvert_exporter": "python",
   "pygments_lexer": "ipython3",
   "version": "3.10.4"
  }
 },
 "nbformat": 4,
 "nbformat_minor": 4
}
